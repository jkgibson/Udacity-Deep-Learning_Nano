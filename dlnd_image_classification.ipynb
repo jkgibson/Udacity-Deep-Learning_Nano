{
 "cells": [
  {
   "cell_type": "markdown",
   "metadata": {
    "collapsed": true
   },
   "source": [
    "# Image Classification\n",
    "In this project, you'll classify images from the [CIFAR-10 dataset](https://www.cs.toronto.edu/~kriz/cifar.html).  The dataset consists of airplanes, dogs, cats, and other objects. You'll preprocess the images, then train a convolutional neural network on all the samples. The images need to be normalized and the labels need to be one-hot encoded.  You'll get to apply what you learned and build a convolutional, max pooling, dropout, and fully connected layers.  At the end, you'll get to see your neural network's predictions on the sample images.\n",
    "## Get the Data\n",
    "Run the following cell to download the [CIFAR-10 dataset for python](https://www.cs.toronto.edu/~kriz/cifar-10-python.tar.gz)."
   ]
  },
  {
   "cell_type": "code",
   "execution_count": 273,
   "metadata": {
    "collapsed": false
   },
   "outputs": [
    {
     "name": "stdout",
     "output_type": "stream",
     "text": [
      "All files found!\n"
     ]
    }
   ],
   "source": [
    "\"\"\"\n",
    "DON'T MODIFY ANYTHING IN THIS CELL THAT IS BELOW THIS LINE\n",
    "\"\"\"\n",
    "from urllib.request import urlretrieve\n",
    "from os.path import isfile, isdir\n",
    "from tqdm import tqdm\n",
    "import problem_unittests as tests\n",
    "import tarfile\n",
    "\n",
    "cifar10_dataset_folder_path = 'cifar-10-batches-py'\n",
    "\n",
    "class DLProgress(tqdm):\n",
    "    last_block = 0\n",
    "\n",
    "    def hook(self, block_num=1, block_size=1, total_size=None):\n",
    "        self.total = total_size\n",
    "        self.update((block_num - self.last_block) * block_size)\n",
    "        self.last_block = block_num\n",
    "\n",
    "if not isfile('cifar-10-python.tar.gz'):\n",
    "    with DLProgress(unit='B', unit_scale=True, miniters=1, desc='CIFAR-10 Dataset') as pbar:\n",
    "        urlretrieve(\n",
    "            'https://www.cs.toronto.edu/~kriz/cifar-10-python.tar.gz',\n",
    "            'cifar-10-python.tar.gz',\n",
    "            pbar.hook)\n",
    "\n",
    "if not isdir(cifar10_dataset_folder_path):\n",
    "    with tarfile.open('cifar-10-python.tar.gz') as tar:\n",
    "        tar.extractall()\n",
    "        tar.close()\n",
    "\n",
    "\n",
    "tests.test_folder_path(cifar10_dataset_folder_path)"
   ]
  },
  {
   "cell_type": "markdown",
   "metadata": {},
   "source": [
    "## Explore the Data\n",
    "The dataset is broken into batches to prevent your machine from running out of memory.  The CIFAR-10 dataset consists of 5 batches, named `data_batch_1`, `data_batch_2`, etc.. Each batch contains the labels and images that are one of the following:\n",
    "* airplane\n",
    "* automobile\n",
    "* bird\n",
    "* cat\n",
    "* deer\n",
    "* dog\n",
    "* frog\n",
    "* horse\n",
    "* ship\n",
    "* truck\n",
    "\n",
    "Understanding a dataset is part of making predictions on the data.  Play around with the code cell below by changing the `batch_id` and `sample_id`. The `batch_id` is the id for a batch (1-5). The `sample_id` is the id for a image and label pair in the batch.\n",
    "\n",
    "Ask yourself \"What are all possible labels?\", \"What is the range of values for the image data?\", \"Are the labels in order or random?\".  Answers to questions like these will help you preprocess the data and end up with better predictions."
   ]
  },
  {
   "cell_type": "code",
   "execution_count": 274,
   "metadata": {
    "collapsed": false
   },
   "outputs": [
    {
     "name": "stdout",
     "output_type": "stream",
     "text": [
      "\n",
      "Stats of batch 1:\n",
      "Samples: 10000\n",
      "Label Counts: {0: 1005, 1: 974, 2: 1032, 3: 1016, 4: 999, 5: 937, 6: 1030, 7: 1001, 8: 1025, 9: 981}\n",
      "First 20 Labels: [6, 9, 9, 4, 1, 1, 2, 7, 8, 3, 4, 7, 7, 2, 9, 9, 9, 3, 2, 6]\n",
      "\n",
      "Example of Image 4:\n",
      "Image - Min Value: 0 Max Value: 254\n",
      "Image - Shape: (32, 32, 3)\n",
      "Label - Label Id: 1 Name: automobile\n"
     ]
    },
    {
     "data": {
      "image/png": "[encoded data removed]",
      "text/plain": [
       "<matplotlib.figure.Figure at 0x2ab86764cf8>"
      ]
     },
     "metadata": {
      "image/png": {
       "height": 250,
       "width": 253
      }
     },
     "output_type": "display_data"
    }
   ],
   "source": [
    "%matplotlib inline\n",
    "%config InlineBackend.figure_format = 'retina'\n",
    "\n",
    "import helper\n",
    "import numpy as np\n",
    "\n",
    "# Explore the dataset\n",
    "batch_id = 1\n",
    "sample_id = 4\n",
    "\n",
    "helper.display_stats(cifar10_dataset_folder_path, batch_id, sample_id)"
   ]
  },
  {
   "cell_type": "markdown",
   "metadata": {},
   "source": [
    "## Implement Preprocess Functions\n",
    "### Normalize\n",
    "In the cell below, implement the `normalize` function to take in image data, `x`, and return it as a normalized Numpy array. The values should be in the range of 0 to 1, inclusive.  The return object should be the same shape as `x`."
   ]
  },
  {
   "cell_type": "code",
   "execution_count": 453,
   "metadata": {
    "collapsed": false
   },
   "outputs": [
    {
     "name": "stdout",
     "output_type": "stream",
     "text": [
      "Tests Passed\n"
     ]
    }
   ],
   "source": [
    "def normalize(x):\n",
    "    \"\"\"\n",
    "    Normalize a list of sample image data in the range of 0 to 1\n",
    "    : x: List of image data.  The image shape is (32, 32, 3)\n",
    "    : return: Numpy array of normalize data\n",
    "    \"\"\"\n",
    "    # TODO: Implement Function\n",
    "    x=np.array(x)\n",
    "    x_min = x.min()\n",
    "    x_max = x.max()\n",
    "    norm = (x-x_min)/(x_max - x_min)\n",
    "    #print(norm)\n",
    "    return norm\n",
    "    \n",
    "\n",
    "\n",
    "\"\"\"\n",
    "DON'T MODIFY ANYTHING IN THIS CELL THAT IS BELOW THIS LINE\n",
    "\"\"\"\n",
    "tests.test_normalize(normalize)"
   ]
  },
  {
   "cell_type": "markdown",
   "metadata": {},
   "source": [
    "### One-hot encode\n",
    "Just like the previous code cell, you'll be implementing a function for preprocessing.  This time, you'll implement the `one_hot_encode` function. The input, `x`, are a list of labels.  Implement the function to return the list of labels as One-Hot encoded Numpy array.  The possible values for labels are 0 to 9. The one-hot encoding function should return the same encoding for each value between each call to `one_hot_encode`.  Make sure to save the map of encodings outside the function.\n",
    "\n",
    "Hint: Don't reinvent the wheel."
   ]
  },
  {
   "cell_type": "code",
   "execution_count": 454,
   "metadata": {
    "collapsed": false
   },
   "outputs": [
    {
     "name": "stdout",
     "output_type": "stream",
     "text": [
      "Tests Passed\n"
     ]
    }
   ],
   "source": [
    "\n",
    "def one_hot_encode(x):\n",
    "    \"\"\"\n",
    "    One hot encode a list of sample labels. Return a one-hot encoded vector for each label.\n",
    "    : x: List of sample Labels\n",
    "    : return: Numpy array of one-hot encoded labels\n",
    "    \"\"\"\n",
    "    # TODO: Implement Function\n",
    "    one_hot = np.eye(10)[x]\n",
    "    return one_hot\n",
    "\n",
    "\n",
    "\"\"\"\n",
    "DON'T MODIFY ANYTHING IN THIS CELL THAT IS BELOW THIS LINE\n",
    "\"\"\"\n",
    "tests.test_one_hot_encode(one_hot_encode)"
   ]
  },
  {
   "cell_type": "markdown",
   "metadata": {},
   "source": [
    "### Randomize Data\n",
    "As you saw from exploring the data above, the order of the samples are randomized.  It doesn't hurt to randomize it again, but you don't need to for this dataset."
   ]
  },
  {
   "cell_type": "markdown",
   "metadata": {},
   "source": [
    "## Preprocess all the data and save it\n",
    "Running the code cell below will preprocess all the CIFAR-10 data and save it to file. The code below also uses 10% of the training data for validation."
   ]
  },
  {
   "cell_type": "code",
   "execution_count": 455,
   "metadata": {
    "collapsed": false
   },
   "outputs": [],
   "source": [
    "\"\"\"\n",
    "DON'T MODIFY ANYTHING IN THIS CELL\n",
    "\"\"\"\n",
    "# Preprocess Training, Validation, and Testing Data\n",
    "helper.preprocess_and_save_data(cifar10_dataset_folder_path, normalize, one_hot_encode)"
   ]
  },
  {
   "cell_type": "markdown",
   "metadata": {},
   "source": [
    "# Check Point\n",
    "This is your first checkpoint.  If you ever decide to come back to this notebook or have to restart the notebook, you can start from here.  The preprocessed data has been saved to disk."
   ]
  },
  {
   "cell_type": "code",
   "execution_count": 456,
   "metadata": {
    "collapsed": true
   },
   "outputs": [],
   "source": [
    "\"\"\"\n",
    "DON'T MODIFY ANYTHING IN THIS CELL\n",
    "\"\"\"\n",
    "import pickle\n",
    "import problem_unittests as tests\n",
    "import helper\n",
    "\n",
    "# Load the Preprocessed Validation data\n",
    "valid_features, valid_labels = pickle.load(open('preprocess_validation.p', mode='rb'))"
   ]
  },
  {
   "cell_type": "markdown",
   "metadata": {},
   "source": [
    "## Build the network\n",
    "For the neural network, you'll build each layer into a function.  Most of the code you've seen has been outside of functions. To test your code more thoroughly, we require that you put each layer in a function.  This allows us to give you better feedback and test for simple mistakes using our unittests before you submit your project.\n",
    "\n",
    "If you're finding it hard to dedicate enough time for this course a week, we've provided a small shortcut to this part of the project. In the next couple of problems, you'll have the option to use [TensorFlow Layers](https://www.tensorflow.org/api_docs/python/tf/layers) or [TensorFlow Layers (contrib)](https://www.tensorflow.org/api_guides/python/contrib.layers) to build each layer, except \"Convolutional & Max Pooling\" layer.  TF Layers is similar to Keras's and TFLearn's abstraction to layers, so it's easy to pickup.\n",
    "\n",
    "If you would like to get the most of this course, try to solve all the problems without TF Layers.  Let's begin!\n",
    "### Input\n",
    "The neural network needs to read the image data, one-hot encoded labels, and dropout keep probability. Implement the following functions\n",
    "* Implement `neural_net_image_input`\n",
    " * Return a [TF Placeholder](https://www.tensorflow.org/api_docs/python/tf/placeholder)\n",
    " * Set the shape using `image_shape` with batch size set to `None`.\n",
    " * Name the TensorFlow placeholder \"x\" using the TensorFlow `name` parameter in the [TF Placeholder](https://www.tensorflow.org/api_docs/python/tf/placeholder).\n",
    "* Implement `neural_net_label_input`\n",
    " * Return a [TF Placeholder](https://www.tensorflow.org/api_docs/python/tf/placeholder)\n",
    " * Set the shape using `n_classes` with batch size set to `None`.\n",
    " * Name the TensorFlow placeholder \"y\" using the TensorFlow `name` parameter in the [TF Placeholder](https://www.tensorflow.org/api_docs/python/tf/placeholder).\n",
    "* Implement `neural_net_keep_prob_input`\n",
    " * Return a [TF Placeholder](https://www.tensorflow.org/api_docs/python/tf/placeholder) for dropout keep probability.\n",
    " * Name the TensorFlow placeholder \"keep_prob\" using the TensorFlow `name` parameter in the [TF Placeholder](https://www.tensorflow.org/api_docs/python/tf/placeholder).\n",
    "\n",
    "These names will be used at the end of the project to load your saved model.\n",
    "\n",
    "Note: `None` for shapes in TensorFlow allow for a dynamic size."
   ]
  },
  {
   "cell_type": "code",
   "execution_count": 457,
   "metadata": {
    "collapsed": false
   },
   "outputs": [
    {
     "name": "stdout",
     "output_type": "stream",
     "text": [
      "Image Input Tests Passed.\n",
      "Label Input Tests Passed.\n",
      "Keep Prob Tests Passed.\n"
     ]
    }
   ],
   "source": [
    "import tensorflow as tf\n",
    "\n",
    "def neural_net_image_input(image_shape):\n",
    "    \"\"\"\n",
    "    Return a Tensor for a bach of image input\n",
    "    : image_shape: Shape of the images\n",
    "    : return: Tensor for image input.\n",
    "    \"\"\"\n",
    "    \n",
    "    # TODO: Implement Function\n",
    "    return tf.placeholder(tf.float32,shape = [None, *image_shape],name='x')\n",
    "\n",
    "\n",
    "def neural_net_label_input(n_classes):\n",
    "    \"\"\"\n",
    "    Return a Tensor for a batch of label input\n",
    "    : n_classes: Number of classes\n",
    "    : return: Tensor for label input.\n",
    "    \"\"\"\n",
    "    # TODO: Implement Function\n",
    "    return tf.placeholder(tf.float32, shape=(None,n_classes), name = 'y')\n",
    "\n",
    "\n",
    "def neural_net_keep_prob_input():\n",
    "    \"\"\"\n",
    "    Return a Tensor for keep probability\n",
    "    : return: Tensor for keep probability.\n",
    "    \"\"\"\n",
    "    # TODO: Implement Function\n",
    "    return tf.placeholder(tf.float32,name='keep_prob')\n",
    "\n",
    "\n",
    "\"\"\"\n",
    "DON'T MODIFY ANYTHING IN THIS CELL THAT IS BELOW THIS LINE\n",
    "\"\"\"\n",
    "tf.reset_default_graph()\n",
    "tests.test_nn_image_inputs(neural_net_image_input)\n",
    "tests.test_nn_label_inputs(neural_net_label_input)\n",
    "tests.test_nn_keep_prob_inputs(neural_net_keep_prob_input)"
   ]
  },
  {
   "cell_type": "markdown",
   "metadata": {},
   "source": [
    "### Convolution and Max Pooling Layer\n",
    "Convolution layers have a lot of success with images. For this code cell, you should implement the function `conv2d_maxpool` to apply convolution then max pooling:\n",
    "* Create the weight and bias using `conv_ksize`, `conv_num_outputs` and the shape of `x_tensor`.\n",
    "* Apply a convolution to `x_tensor` using weight and `conv_strides`.\n",
    " * We recommend you use same padding, but you're welcome to use any padding.\n",
    "* Add bias\n",
    "* Add a nonlinear activation to the convolution.\n",
    "* Apply Max Pooling using `pool_ksize` and `pool_strides`.\n",
    " * We recommend you use same padding, but you're welcome to use any padding.\n",
    "\n",
    "Note: You **can't** use [TensorFlow Layers](https://www.tensorflow.org/api_docs/python/tf/layers) or [TensorFlow Layers (contrib)](https://www.tensorflow.org/api_guides/python/contrib.layers) for this layer.  You're free to use any TensorFlow package for all the other layers."
   ]
  },
  {
   "cell_type": "code",
   "execution_count": 458,
   "metadata": {
    "collapsed": false
   },
   "outputs": [
    {
     "name": "stdout",
     "output_type": "stream",
     "text": [
      "Tests Passed\n"
     ]
    }
   ],
   "source": [
    "def conv2d_maxpool(x_tensor, conv_num_outputs, conv_ksize, conv_strides, pool_ksize, pool_strides):\n",
    "    \"\"\"\n",
    "    Apply convolution then max pooling to x_tensor\n",
    "    :param x_tensor: TensorFlow Tensor\n",
    "    :param conv_num_outputs: Number of outputs for the convolutional layer\n",
    "    :param conv_ksize: kernel size 2-D tuple for filter\n",
    "    :param conv_strides: Stride 2-D Tuple for convolution\n",
    "    :param pool_ksize: kernal size 2-D Tuple for pool\n",
    "    :param pool_strides: Stride 2-D Tuple for pool\n",
    "    : return: A tensor that represents convolution and max pooling of x_tensor\n",
    "    \"\"\"\n",
    "    # TODO: Implement Function\n",
    "    W = tf.Variable(tf.random_normal([conv_ksize[0], \n",
    "                                         conv_ksize[1], \n",
    "                                         x_tensor.get_shape().as_list()[-1], \n",
    "                                         conv_num_outputs],dtype=tf.float32,stddev=0.1))\n",
    "\n",
    "    b = tf.Variable(tf.zeros(conv_num_outputs,dtype=tf.float32))\n",
    "\n",
    "    layer1 = tf.nn.conv2d(x_tensor, W,\n",
    "             strides=[1, conv_strides[0], conv_strides[1], 1],\n",
    "             padding='SAME')\n",
    "\n",
    "    #Adding bias\n",
    "    layer1_with_bias = tf.add(layer1, b)\n",
    "\n",
    "    #Adding relu as a non-linear\n",
    "    layer2 = tf.nn.relu(layer1_with_bias)\n",
    "\n",
    "    layer3 = tf.nn.max_pool(layer2, ksize=[1, pool_ksize[0], pool_ksize[1], 1],\n",
    "                      strides=[1, pool_strides[0], pool_strides[1], 1],\n",
    "                      padding='SAME')\n",
    "\n",
    "    return layer3\n",
    "    \n",
    "\n",
    "\"\"\"\n",
    "DON'T MODIFY ANYTHING IN THIS CELL THAT IS BELOW THIS LINE\n",
    "\"\"\"\n",
    "tests.test_con_pool(conv2d_maxpool)"
   ]
  },
  {
   "cell_type": "markdown",
   "metadata": {},
   "source": [
    "### Flatten Layer\n",
    "Implement the `flatten` function to change the dimension of `x_tensor` from a 4-D tensor to a 2-D tensor.  The output should be the shape (*Batch Size*, *Flattened Image Size*). You can use [TensorFlow Layers](https://www.tensorflow.org/api_docs/python/tf/layers) or [TensorFlow Layers (contrib)](https://www.tensorflow.org/api_guides/python/contrib.layers) for this layer."
   ]
  },
  {
   "cell_type": "code",
   "execution_count": 459,
   "metadata": {
    "collapsed": false
   },
   "outputs": [
    {
     "name": "stdout",
     "output_type": "stream",
     "text": [
      "Tests Passed\n"
     ]
    }
   ],
   "source": [
    "def flatten(x_tensor):\n",
    "    \"\"\"\n",
    "    Flatten x_tensor to (Batch Size, Flattened Image Size)\n",
    "    : x_tensor: A tensor of size (Batch Size, ...), where ... are the image dimensions.\n",
    "    : return: A tensor of size (Batch Size, Flattened Image Size).\n",
    "    \"\"\"\n",
    "    # TODO: Implement Function\n",
    "    \n",
    "   \n",
    "    return tf.contrib.layers.flatten(x_tensor)\n",
    "\n",
    "\n",
    "\"\"\"\n",
    "DON'T MODIFY ANYTHING IN THIS CELL THAT IS BELOW THIS LINE\n",
    "\"\"\"\n",
    "tests.test_flatten(flatten)"
   ]
  },
  {
   "cell_type": "markdown",
   "metadata": {},
   "source": [
    "### Fully-Connected Layer\n",
    "Implement the `fully_conn` function to apply a fully connected layer to `x_tensor` with the shape (*Batch Size*, *num_outputs*). You can use [TensorFlow Layers](https://www.tensorflow.org/api_docs/python/tf/layers) or [TensorFlow Layers (contrib)](https://www.tensorflow.org/api_guides/python/contrib.layers) for this layer."
   ]
  },
  {
   "cell_type": "code",
   "execution_count": 460,
   "metadata": {
    "collapsed": false
   },
   "outputs": [
    {
     "name": "stdout",
     "output_type": "stream",
     "text": [
      "Tests Passed\n"
     ]
    }
   ],
   "source": [
    "def fully_conn(x_tensor, num_outputs):\n",
    "    \"\"\"\n",
    "    Apply a fully connected layer to x_tensor using weight and bias\n",
    "    : x_tensor: A 2-D tensor where the first dimension is batch size.\n",
    "    : num_outputs: The number of output that the new tensor should be.\n",
    "    : return: A 2-D tensor where the second dimension is num_outputs.\n",
    "    \"\"\"\n",
    "    # TODO: Implement Function\n",
    "    weights = tf.Variable(tf.random_normal([x_tensor.get_shape().as_list()[-1],num_outputs],stddev=0.1))\n",
    "    biases = tf.Variable(tf.zeros(num_outputs, dtype=tf.float32))\n",
    "    output_before_relu = tf.nn.bias_add(tf.matmul(x_tensor, weights),biases)\n",
    "    after_relu = tf.nn.relu(output_before_relu)\n",
    "    return after_relu\n",
    "\n",
    "\n",
    "\"\"\"\n",
    "DON'T MODIFY ANYTHING IN THIS CELL THAT IS BELOW THIS LINE\n",
    "\"\"\"\n",
    "tests.test_fully_conn(fully_conn)"
   ]
  },
  {
   "cell_type": "markdown",
   "metadata": {},
   "source": [
    "### Output Layer\n",
    "Implement the `output` function to apply a fully connected layer to `x_tensor` with the shape (*Batch Size*, *num_outputs*). You can use [TensorFlow Layers](https://www.tensorflow.org/api_docs/python/tf/layers) or [TensorFlow Layers (contrib)](https://www.tensorflow.org/api_guides/python/contrib.layers) for this layer.\n",
    "\n",
    "Note: Activation, softmax, or cross entropy shouldn't be applied to this."
   ]
  },
  {
   "cell_type": "code",
   "execution_count": 461,
   "metadata": {
    "collapsed": false
   },
   "outputs": [
    {
     "name": "stdout",
     "output_type": "stream",
     "text": [
      "Tests Passed\n"
     ]
    }
   ],
   "source": [
    "def output(x_tensor, num_outputs):\n",
    "    \"\"\"\n",
    "    Apply a output layer to x_tensor using weight and bias\n",
    "    : x_tensor: A 2-D tensor where the first dimension is batch size.\n",
    "    : num_outputs: The number of output that the new tensor should be.\n",
    "    : return: A 2-D tensor where the second dimension is num_outputs.\n",
    "    \"\"\"\n",
    "    # TODO: Implement Function\n",
    "    weights = tf.Variable(tf.random_normal([x_tensor.get_shape().as_list()[-1],num_outputs], dtype=tf.float32,stddev=0.1))\n",
    "    biases = tf.Variable(tf.zeros(num_outputs, dtype=tf.float32))\n",
    "    output = tf.add(tf.matmul(x_tensor, weights),biases)\n",
    "    return output\n",
    "\n",
    "\n",
    "\"\"\"\n",
    "DON'T MODIFY ANYTHING IN THIS CELL THAT IS BELOW THIS LINE\n",
    "\"\"\"\n",
    "tests.test_output(output)"
   ]
  },
  {
   "cell_type": "markdown",
   "metadata": {},
   "source": [
    "### Create Convolutional Model\n",
    "Implement the function `conv_net` to create a convolutional neural network model. The function takes in a batch of images, `x`, and outputs logits.  Use the layers you created above to create this model:\n",
    "\n",
    "* Apply 1, 2, or 3 Convolution and Max Pool layers\n",
    "* Apply a Flatten Layer\n",
    "* Apply 1, 2, or 3 Fully Connected Layers\n",
    "* Apply an Output Layer\n",
    "* Return the output\n",
    "* Apply [TensorFlow's Dropout](https://www.tensorflow.org/api_docs/python/tf/nn/dropout) to one or more layers in the model using `keep_prob`. "
   ]
  },
  {
   "cell_type": "code",
   "execution_count": 462,
   "metadata": {
    "collapsed": false
   },
   "outputs": [
    {
     "name": "stdout",
     "output_type": "stream",
     "text": [
      "Neural Network Built!\n"
     ]
    }
   ],
   "source": [
    "def conv_net(x, keep_prob):\n",
    "    \"\"\"\n",
    "    Create a convolutional neural network model\n",
    "    : x: Placeholder tensor that holds image data.\n",
    "    : keep_prob: Placeholder tensor that hold dropout keep probability.\n",
    "    : return: Tensor that represents logits\n",
    "    \"\"\"\n",
    "    \n",
    "    # TODO: Apply 1, 2, or 3 Convolution and Max Pool layers\n",
    "    #    Play around with different number of outputs, kernel size and stride\n",
    "    # Function Definition from Above:\n",
    "    #    conv2d_maxpool(x_tensor, conv_num_outputs, conv_ksize, conv_strides, pool_ksize, pool_strides)\n",
    "    layer = conv2d_maxpool(x, 32, (4,4), (1,1), (1,1), (1,1))\n",
    "\n",
    "    # TODO: Apply a Flatten Layer\n",
    "    # Function Definition from Above:\n",
    "    #   flatten(x_tensor)\n",
    "    layer = flatten(layer)\n",
    "    \n",
    "\n",
    "    # TODO: Apply 1, 2, or 3 Fully Connected Layers\n",
    "    #    Play around with different number of outputs\n",
    "    # Function Definition from Above:\n",
    "    #   fully_conn(x_tensor, num_outputs)\n",
    "    layer = fully_conn(layer,400)\n",
    "    layer = tf.nn.dropout(layer, keep_prob)\n",
    "       #layer = fully_conn(layer,200)\n",
    "    #layer = tf.nn.dropout(layer, keep_prob)\n",
    "    # TODO: Apply an Output Layer\n",
    "    #    Set this to the number of classes\n",
    "    # Function Definition from Above:\n",
    "    #   output(x_tensor, num_outputs)\n",
    "    layer = output(layer, 10)\n",
    "    \n",
    "    \n",
    "    # TODO: return output\n",
    "    return layer\n",
    "\n",
    "\n",
    "\"\"\"\n",
    "DON'T MODIFY ANYTHING IN THIS CELL THAT IS BELOW THIS LINE\n",
    "\"\"\"\n",
    "\n",
    "##############################\n",
    "## Build the Neural Network ##\n",
    "##############################\n",
    "\n",
    "# Remove previous weights, bias, inputs, etc..\n",
    "tf.reset_default_graph()\n",
    "\n",
    "# Inputs\n",
    "x = neural_net_image_input((32, 32, 3))\n",
    "y = neural_net_label_input(10)\n",
    "keep_prob = neural_net_keep_prob_input()\n",
    "\n",
    "# Model\n",
    "logits = conv_net(x, keep_prob)\n",
    "\n",
    "# Name logits Tensor, so that is can be loaded from disk after training\n",
    "logits = tf.identity(logits, name='logits')\n",
    "\n",
    "# Loss and Optimizer\n",
    "cost = tf.reduce_mean(tf.nn.softmax_cross_entropy_with_logits(logits=logits, labels=y))\n",
    "optimizer = tf.train.AdamOptimizer().minimize(cost)\n",
    "\n",
    "# Accuracy\n",
    "correct_pred = tf.equal(tf.argmax(logits, 1), tf.argmax(y, 1))\n",
    "accuracy = tf.reduce_mean(tf.cast(correct_pred, tf.float32), name='accuracy')\n",
    "\n",
    "tests.test_conv_net(conv_net)"
   ]
  },
  {
   "cell_type": "markdown",
   "metadata": {},
   "source": [
    "## Train the Neural Network\n",
    "### Single Optimization\n",
    "Implement the function `train_neural_network` to do a single optimization.  The optimization should use `optimizer` to optimize in `session` with a `feed_dict` of the following:\n",
    "* `x` for image input\n",
    "* `y` for labels\n",
    "* `keep_prob` for keep probability for dropout\n",
    "\n",
    "This function will be called for each batch, so `tf.global_variables_initializer()` has already been called.\n",
    "\n",
    "Note: Nothing needs to be returned. This function is only optimizing the neural network."
   ]
  },
  {
   "cell_type": "code",
   "execution_count": 463,
   "metadata": {
    "collapsed": false
   },
   "outputs": [
    {
     "name": "stdout",
     "output_type": "stream",
     "text": [
      "Tests Passed\n"
     ]
    }
   ],
   "source": [
    "def train_neural_network(session, optimizer, keep_probability, feature_batch, label_batch):\n",
    "    \"\"\"\n",
    "    Optimize the session on a batch of images and labels\n",
    "    : session: Current TensorFlow session\n",
    "    : optimizer: TensorFlow optimizer function\n",
    "    : keep_probability: keep probability\n",
    "    : feature_batch: Batch of Numpy image data\n",
    "    : label_batch: Batch of Numpy label data\n",
    "    \"\"\"\n",
    "    # TODO: Implement Function\n",
    "    \n",
    "    session.run(optimizer,feed_dict={x: feature_batch, y: label_batch, keep_prob: keep_probability})\n",
    "    \n",
    "\n",
    "\n",
    "\"\"\"\n",
    "DON'T MODIFY ANYTHING IN THIS CELL THAT IS BELOW THIS LINE\n",
    "\"\"\"\n",
    "tests.test_train_nn(train_neural_network)"
   ]
  },
  {
   "cell_type": "markdown",
   "metadata": {},
   "source": [
    "### Show Stats\n",
    "Implement the function `print_stats` to print loss and validation accuracy.  Use the global variables `valid_features` and `valid_labels` to calculate validation accuracy.  Use a keep probability of `1.0` to calculate the loss and validation accuracy."
   ]
  },
  {
   "cell_type": "code",
   "execution_count": 464,
   "metadata": {
    "collapsed": false
   },
   "outputs": [],
   "source": [
    "def print_stats(session, feature_batch, label_batch, cost, accuracy):\n",
    "    \"\"\"\n",
    "    Print information about loss and validation accuracy\n",
    "    : session: Current TensorFlow session\n",
    "    : feature_batch: Batch of Numpy image data\n",
    "    : label_batch: Batch of Numpy label data\n",
    "    : cost: TensorFlow cost function\n",
    "    : accuracy: TensorFlow accuracy function\n",
    "    \"\"\"\n",
    "    # TODO: Implement Function\n",
    "    loss = session.run(cost, feed_dict={x: feature_batch, y: label_batch, keep_prob: 1.})\n",
    "    \n",
    "    valid_acc = session.run(accuracy, feed_dict={x: valid_features, y: valid_labels, keep_prob: 1.})\n",
    "    \n",
    "    print('Loss: {:>10.4f} Validation Accuracy: {:.6f}'.format(\n",
    "                loss,\n",
    "                valid_acc))\n",
    "    \n",
    "    "
   ]
  },
  {
   "cell_type": "markdown",
   "metadata": {},
   "source": [
    "### Hyperparameters\n",
    "Tune the following parameters:\n",
    "* Set `epochs` to the number of iterations until the network stops learning or start overfitting\n",
    "* Set `batch_size` to the highest number that your machine has memory for.  Most people set them to common sizes of memory:\n",
    " * 64\n",
    " * 128\n",
    " * 256\n",
    " * ...\n",
    "* Set `keep_probability` to the probability of keeping a node using dropout"
   ]
  },
  {
   "cell_type": "code",
   "execution_count": 465,
   "metadata": {
    "collapsed": true
   },
   "outputs": [],
   "source": [
    "# TODO: Tune Parameters\n",
    "epochs = 50\n",
    "batch_size = 256\n",
    "keep_probability = 0.5"
   ]
  },
  {
   "cell_type": "markdown",
   "metadata": {},
   "source": [
    "### Train on a Single CIFAR-10 Batch\n",
    "Instead of training the neural network on all the CIFAR-10 batches of data, let's use a single batch. This should save time while you iterate on the model to get a better accuracy.  Once the final validation accuracy is 50% or greater, run the model on all the data in the next section."
   ]
  },
  {
   "cell_type": "code",
   "execution_count": 466,
   "metadata": {
    "collapsed": false
   },
   "outputs": [
    {
     "name": "stdout",
     "output_type": "stream",
     "text": [
      "Checking the Training on a Single Batch...\n",
      "Epoch  1, CIFAR-10 Batch 1:  Loss:     2.0884 Validation Accuracy: 0.248000\n",
      "Epoch  2, CIFAR-10 Batch 1:  Loss:     1.7961 Validation Accuracy: 0.361200\n",
      "Epoch  3, CIFAR-10 Batch 1:  Loss:     1.4323 Validation Accuracy: 0.387400\n",
      "Epoch  4, CIFAR-10 Batch 1:  Loss:     1.1684 Validation Accuracy: 0.422800\n",
      "Epoch  5, CIFAR-10 Batch 1:  Loss:     0.9404 Validation Accuracy: 0.444400\n",
      "Epoch  6, CIFAR-10 Batch 1:  Loss:     0.7658 Validation Accuracy: 0.464000\n",
      "Epoch  7, CIFAR-10 Batch 1:  Loss:     0.6449 Validation Accuracy: 0.474600\n",
      "Epoch  8, CIFAR-10 Batch 1:  Loss:     0.5033 Validation Accuracy: 0.489200\n",
      "Epoch  9, CIFAR-10 Batch 1:  Loss:     0.4398 Validation Accuracy: 0.480000\n",
      "Epoch 10, CIFAR-10 Batch 1:  Loss:     0.3331 Validation Accuracy: 0.494800\n",
      "Epoch 11, CIFAR-10 Batch 1:  Loss:     0.2718 Validation Accuracy: 0.502200\n",
      "Epoch 12, CIFAR-10 Batch 1:  Loss:     0.1872 Validation Accuracy: 0.512200\n",
      "Epoch 13, CIFAR-10 Batch 1:  Loss:     0.1425 Validation Accuracy: 0.512600\n",
      "Epoch 14, CIFAR-10 Batch 1:  Loss:     0.1052 Validation Accuracy: 0.516200\n",
      "Epoch 15, CIFAR-10 Batch 1:  Loss:     0.0814 Validation Accuracy: 0.516000\n",
      "Epoch 16, CIFAR-10 Batch 1:  Loss:     0.0690 Validation Accuracy: 0.525200\n",
      "Epoch 17, CIFAR-10 Batch 1:  Loss:     0.0613 Validation Accuracy: 0.520200\n",
      "Epoch 18, CIFAR-10 Batch 1:  Loss:     0.0535 Validation Accuracy: 0.516800\n",
      "Epoch 19, CIFAR-10 Batch 1:  Loss:     0.0407 Validation Accuracy: 0.525800\n",
      "Epoch 20, CIFAR-10 Batch 1:  Loss:     0.0269 Validation Accuracy: 0.529400\n",
      "Epoch 21, CIFAR-10 Batch 1:  Loss:     0.0337 Validation Accuracy: 0.527800\n",
      "Epoch 22, CIFAR-10 Batch 1:  Loss:     0.0260 Validation Accuracy: 0.523800\n",
      "Epoch 23, CIFAR-10 Batch 1:  Loss:     0.0233 Validation Accuracy: 0.516200\n",
      "Epoch 24, CIFAR-10 Batch 1:  Loss:     0.0233 Validation Accuracy: 0.503200\n",
      "Epoch 25, CIFAR-10 Batch 1:  Loss:     0.0126 Validation Accuracy: 0.512800\n",
      "Epoch 26, CIFAR-10 Batch 1:  Loss:     0.0089 Validation Accuracy: 0.519800\n",
      "Epoch 27, CIFAR-10 Batch 1:  Loss:     0.0072 Validation Accuracy: 0.521200\n",
      "Epoch 28, CIFAR-10 Batch 1:  Loss:     0.0056 Validation Accuracy: 0.518000\n",
      "Epoch 29, CIFAR-10 Batch 1:  Loss:     0.0096 Validation Accuracy: 0.520800\n",
      "Epoch 30, CIFAR-10 Batch 1:  Loss:     0.0046 Validation Accuracy: 0.517800\n",
      "Epoch 31, CIFAR-10 Batch 1:  Loss:     0.0031 Validation Accuracy: 0.527200\n",
      "Epoch 32, CIFAR-10 Batch 1:  Loss:     0.0036 Validation Accuracy: 0.519000\n",
      "Epoch 33, CIFAR-10 Batch 1:  Loss:     0.0026 Validation Accuracy: 0.523200\n",
      "Epoch 34, CIFAR-10 Batch 1:  Loss:     0.0031 Validation Accuracy: 0.533200\n",
      "Epoch 35, CIFAR-10 Batch 1:  Loss:     0.0021 Validation Accuracy: 0.528600\n",
      "Epoch 36, CIFAR-10 Batch 1:  Loss:     0.0014 Validation Accuracy: 0.529200\n",
      "Epoch 37, CIFAR-10 Batch 1:  Loss:     0.0020 Validation Accuracy: 0.530400\n",
      "Epoch 38, CIFAR-10 Batch 1:  Loss:     0.0010 Validation Accuracy: 0.532000\n",
      "Epoch 39, CIFAR-10 Batch 1:  Loss:     0.0013 Validation Accuracy: 0.524200\n",
      "Epoch 40, CIFAR-10 Batch 1:  Loss:     0.0008 Validation Accuracy: 0.528600\n",
      "Epoch 41, CIFAR-10 Batch 1:  Loss:     0.0009 Validation Accuracy: 0.535600\n",
      "Epoch 42, CIFAR-10 Batch 1:  Loss:     0.0010 Validation Accuracy: 0.533800\n",
      "Epoch 43, CIFAR-10 Batch 1:  Loss:     0.0005 Validation Accuracy: 0.530400\n",
      "Epoch 44, CIFAR-10 Batch 1:  Loss:     0.0005 Validation Accuracy: 0.533800\n",
      "Epoch 45, CIFAR-10 Batch 1:  Loss:     0.0004 Validation Accuracy: 0.536000\n",
      "Epoch 46, CIFAR-10 Batch 1:  Loss:     0.0003 Validation Accuracy: 0.540400\n",
      "Epoch 47, CIFAR-10 Batch 1:  Loss:     0.0003 Validation Accuracy: 0.533600\n",
      "Epoch 48, CIFAR-10 Batch 1:  Loss:     0.0004 Validation Accuracy: 0.533800\n",
      "Epoch 49, CIFAR-10 Batch 1:  Loss:     0.0003 Validation Accuracy: 0.539000\n",
      "Epoch 50, CIFAR-10 Batch 1:  Loss:     0.0002 Validation Accuracy: 0.542400\n"
     ]
    }
   ],
   "source": [
    "\"\"\"\n",
    "DON'T MODIFY ANYTHING IN THIS CELL\n",
    "\"\"\"\n",
    "print('Checking the Training on a Single Batch...')\n",
    "with tf.Session() as sess:\n",
    "    # Initializing the variables\n",
    "    sess.run(tf.global_variables_initializer())\n",
    "    \n",
    "    # Training cycle\n",
    "    for epoch in range(epochs):\n",
    "        batch_i = 1\n",
    "        for batch_features, batch_labels in helper.load_preprocess_training_batch(batch_i, batch_size):\n",
    "            train_neural_network(sess, optimizer, keep_probability, batch_features, batch_labels)\n",
    "        print('Epoch {:>2}, CIFAR-10 Batch {}:  '.format(epoch + 1, batch_i), end='')\n",
    "        print_stats(sess, batch_features, batch_labels, cost, accuracy)"
   ]
  },
  {
   "cell_type": "markdown",
   "metadata": {},
   "source": [
    "### Fully Train the Model\n",
    "Now that you got a good accuracy with a single CIFAR-10 batch, try it with all five batches."
   ]
  },
  {
   "cell_type": "code",
   "execution_count": 467,
   "metadata": {
    "collapsed": false
   },
   "outputs": [
    {
     "name": "stdout",
     "output_type": "stream",
     "text": [
      "Training...\n",
      "Epoch  1, CIFAR-10 Batch 1:  Loss:     2.2006 Validation Accuracy: 0.216400\n",
      "Epoch  1, CIFAR-10 Batch 2:  Loss:     1.7895 Validation Accuracy: 0.329200\n",
      "Epoch  1, CIFAR-10 Batch 3:  Loss:     1.5441 Validation Accuracy: 0.405200\n",
      "Epoch  1, CIFAR-10 Batch 4:  Loss:     1.4731 Validation Accuracy: 0.447000\n",
      "Epoch  1, CIFAR-10 Batch 5:  Loss:     1.4790 Validation Accuracy: 0.473800\n",
      "Epoch  2, CIFAR-10 Batch 1:  Loss:     1.4937 Validation Accuracy: 0.481200\n",
      "Epoch  2, CIFAR-10 Batch 2:  Loss:     1.1554 Validation Accuracy: 0.501600\n",
      "Epoch  2, CIFAR-10 Batch 3:  Loss:     1.1198 Validation Accuracy: 0.503800\n",
      "Epoch  2, CIFAR-10 Batch 4:  Loss:     1.0980 Validation Accuracy: 0.519400\n",
      "Epoch  2, CIFAR-10 Batch 5:  Loss:     1.0997 Validation Accuracy: 0.529600\n",
      "Epoch  3, CIFAR-10 Batch 1:  Loss:     1.1328 Validation Accuracy: 0.521200\n",
      "Epoch  3, CIFAR-10 Batch 2:  Loss:     0.8042 Validation Accuracy: 0.543400\n",
      "Epoch  3, CIFAR-10 Batch 3:  Loss:     0.7551 Validation Accuracy: 0.546000\n",
      "Epoch  3, CIFAR-10 Batch 4:  Loss:     0.8933 Validation Accuracy: 0.553000\n",
      "Epoch  3, CIFAR-10 Batch 5:  Loss:     0.7860 Validation Accuracy: 0.553000\n",
      "Epoch  4, CIFAR-10 Batch 1:  Loss:     0.8319 Validation Accuracy: 0.555000\n",
      "Epoch  4, CIFAR-10 Batch 2:  Loss:     0.5302 Validation Accuracy: 0.568000\n",
      "Epoch  4, CIFAR-10 Batch 3:  Loss:     0.5561 Validation Accuracy: 0.566000\n",
      "Epoch  4, CIFAR-10 Batch 4:  Loss:     0.6439 Validation Accuracy: 0.569800\n",
      "Epoch  4, CIFAR-10 Batch 5:  Loss:     0.5722 Validation Accuracy: 0.572600\n",
      "Epoch  5, CIFAR-10 Batch 1:  Loss:     0.6180 Validation Accuracy: 0.576800\n",
      "Epoch  5, CIFAR-10 Batch 2:  Loss:     0.3958 Validation Accuracy: 0.584800\n",
      "Epoch  5, CIFAR-10 Batch 3:  Loss:     0.4231 Validation Accuracy: 0.580600\n",
      "Epoch  5, CIFAR-10 Batch 4:  Loss:     0.4691 Validation Accuracy: 0.579800\n",
      "Epoch  5, CIFAR-10 Batch 5:  Loss:     0.4338 Validation Accuracy: 0.582400\n",
      "Epoch  6, CIFAR-10 Batch 1:  Loss:     0.5293 Validation Accuracy: 0.590800\n",
      "Epoch  6, CIFAR-10 Batch 2:  Loss:     0.2854 Validation Accuracy: 0.596200\n",
      "Epoch  6, CIFAR-10 Batch 3:  Loss:     0.2656 Validation Accuracy: 0.589800\n",
      "Epoch  6, CIFAR-10 Batch 4:  Loss:     0.3215 Validation Accuracy: 0.585600\n",
      "Epoch  6, CIFAR-10 Batch 5:  Loss:     0.3071 Validation Accuracy: 0.596600\n",
      "Epoch  7, CIFAR-10 Batch 1:  Loss:     0.3807 Validation Accuracy: 0.605600\n",
      "Epoch  7, CIFAR-10 Batch 2:  Loss:     0.2179 Validation Accuracy: 0.605600\n",
      "Epoch  7, CIFAR-10 Batch 3:  Loss:     0.2089 Validation Accuracy: 0.608200\n",
      "Epoch  7, CIFAR-10 Batch 4:  Loss:     0.2613 Validation Accuracy: 0.585000\n",
      "Epoch  7, CIFAR-10 Batch 5:  Loss:     0.2478 Validation Accuracy: 0.609600\n",
      "Epoch  8, CIFAR-10 Batch 1:  Loss:     0.2685 Validation Accuracy: 0.608400\n",
      "Epoch  8, CIFAR-10 Batch 2:  Loss:     0.1580 Validation Accuracy: 0.614800\n",
      "Epoch  8, CIFAR-10 Batch 3:  Loss:     0.1390 Validation Accuracy: 0.600800\n",
      "Epoch  8, CIFAR-10 Batch 4:  Loss:     0.1703 Validation Accuracy: 0.608000\n",
      "Epoch  8, CIFAR-10 Batch 5:  Loss:     0.1853 Validation Accuracy: 0.611200\n",
      "Epoch  9, CIFAR-10 Batch 1:  Loss:     0.1942 Validation Accuracy: 0.618000\n",
      "Epoch  9, CIFAR-10 Batch 2:  Loss:     0.1281 Validation Accuracy: 0.619200\n",
      "Epoch  9, CIFAR-10 Batch 3:  Loss:     0.0881 Validation Accuracy: 0.610400\n",
      "Epoch  9, CIFAR-10 Batch 4:  Loss:     0.1414 Validation Accuracy: 0.617600\n",
      "Epoch  9, CIFAR-10 Batch 5:  Loss:     0.1378 Validation Accuracy: 0.607400\n",
      "Epoch 10, CIFAR-10 Batch 1:  Loss:     0.1488 Validation Accuracy: 0.620600\n",
      "Epoch 10, CIFAR-10 Batch 2:  Loss:     0.0978 Validation Accuracy: 0.622200\n",
      "Epoch 10, CIFAR-10 Batch 3:  Loss:     0.0600 Validation Accuracy: 0.618200\n",
      "Epoch 10, CIFAR-10 Batch 4:  Loss:     0.1065 Validation Accuracy: 0.612400\n",
      "Epoch 10, CIFAR-10 Batch 5:  Loss:     0.0882 Validation Accuracy: 0.623600\n",
      "Epoch 11, CIFAR-10 Batch 1:  Loss:     0.0949 Validation Accuracy: 0.623000\n",
      "Epoch 11, CIFAR-10 Batch 2:  Loss:     0.0744 Validation Accuracy: 0.603400\n",
      "Epoch 11, CIFAR-10 Batch 3:  Loss:     0.0365 Validation Accuracy: 0.626400\n",
      "Epoch 11, CIFAR-10 Batch 4:  Loss:     0.0868 Validation Accuracy: 0.610000\n",
      "Epoch 11, CIFAR-10 Batch 5:  Loss:     0.0712 Validation Accuracy: 0.609800\n",
      "Epoch 12, CIFAR-10 Batch 1:  Loss:     0.0526 Validation Accuracy: 0.632200\n",
      "Epoch 12, CIFAR-10 Batch 2:  Loss:     0.0489 Validation Accuracy: 0.606600\n",
      "Epoch 12, CIFAR-10 Batch 3:  Loss:     0.0344 Validation Accuracy: 0.623000\n",
      "Epoch 12, CIFAR-10 Batch 4:  Loss:     0.0618 Validation Accuracy: 0.600400\n",
      "Epoch 12, CIFAR-10 Batch 5:  Loss:     0.0476 Validation Accuracy: 0.614200\n",
      "Epoch 13, CIFAR-10 Batch 1:  Loss:     0.0572 Validation Accuracy: 0.624400\n",
      "Epoch 13, CIFAR-10 Batch 2:  Loss:     0.0375 Validation Accuracy: 0.621000\n",
      "Epoch 13, CIFAR-10 Batch 3:  Loss:     0.0314 Validation Accuracy: 0.618800\n",
      "Epoch 13, CIFAR-10 Batch 4:  Loss:     0.0436 Validation Accuracy: 0.615800\n",
      "Epoch 13, CIFAR-10 Batch 5:  Loss:     0.0468 Validation Accuracy: 0.626600\n",
      "Epoch 14, CIFAR-10 Batch 1:  Loss:     0.0393 Validation Accuracy: 0.621800\n",
      "Epoch 14, CIFAR-10 Batch 2:  Loss:     0.0305 Validation Accuracy: 0.630000\n",
      "Epoch 14, CIFAR-10 Batch 3:  Loss:     0.0211 Validation Accuracy: 0.619800\n",
      "Epoch 14, CIFAR-10 Batch 4:  Loss:     0.0329 Validation Accuracy: 0.613000\n",
      "Epoch 14, CIFAR-10 Batch 5:  Loss:     0.0191 Validation Accuracy: 0.628400\n",
      "Epoch 15, CIFAR-10 Batch 1:  Loss:     0.0270 Validation Accuracy: 0.627800\n",
      "Epoch 15, CIFAR-10 Batch 2:  Loss:     0.0193 Validation Accuracy: 0.628000\n",
      "Epoch 15, CIFAR-10 Batch 3:  Loss:     0.0157 Validation Accuracy: 0.618400\n",
      "Epoch 15, CIFAR-10 Batch 4:  Loss:     0.0291 Validation Accuracy: 0.614400\n",
      "Epoch 15, CIFAR-10 Batch 5:  Loss:     0.0178 Validation Accuracy: 0.630600\n",
      "Epoch 16, CIFAR-10 Batch 1:  Loss:     0.0186 Validation Accuracy: 0.628200\n",
      "Epoch 16, CIFAR-10 Batch 2:  Loss:     0.0125 Validation Accuracy: 0.623400\n",
      "Epoch 16, CIFAR-10 Batch 3:  Loss:     0.0209 Validation Accuracy: 0.621000\n",
      "Epoch 16, CIFAR-10 Batch 4:  Loss:     0.0224 Validation Accuracy: 0.616000\n",
      "Epoch 16, CIFAR-10 Batch 5:  Loss:     0.0158 Validation Accuracy: 0.618400\n",
      "Epoch 17, CIFAR-10 Batch 1:  Loss:     0.0109 Validation Accuracy: 0.634400\n",
      "Epoch 17, CIFAR-10 Batch 2:  Loss:     0.0129 Validation Accuracy: 0.606400\n",
      "Epoch 17, CIFAR-10 Batch 3:  Loss:     0.0104 Validation Accuracy: 0.619400\n",
      "Epoch 17, CIFAR-10 Batch 4:  Loss:     0.0209 Validation Accuracy: 0.620600\n",
      "Epoch 17, CIFAR-10 Batch 5:  Loss:     0.0123 Validation Accuracy: 0.620200\n",
      "Epoch 18, CIFAR-10 Batch 1:  Loss:     0.0167 Validation Accuracy: 0.628400\n",
      "Epoch 18, CIFAR-10 Batch 2:  Loss:     0.0102 Validation Accuracy: 0.604200\n",
      "Epoch 18, CIFAR-10 Batch 3:  Loss:     0.0084 Validation Accuracy: 0.628000\n",
      "Epoch 18, CIFAR-10 Batch 4:  Loss:     0.0121 Validation Accuracy: 0.620200\n",
      "Epoch 18, CIFAR-10 Batch 5:  Loss:     0.0095 Validation Accuracy: 0.624400\n",
      "Epoch 19, CIFAR-10 Batch 1:  Loss:     0.0100 Validation Accuracy: 0.633000\n",
      "Epoch 19, CIFAR-10 Batch 2:  Loss:     0.0064 Validation Accuracy: 0.613000\n",
      "Epoch 19, CIFAR-10 Batch 3:  Loss:     0.0048 Validation Accuracy: 0.623000\n",
      "Epoch 19, CIFAR-10 Batch 4:  Loss:     0.0099 Validation Accuracy: 0.606000\n",
      "Epoch 19, CIFAR-10 Batch 5:  Loss:     0.0049 Validation Accuracy: 0.634400\n",
      "Epoch 20, CIFAR-10 Batch 1:  Loss:     0.0112 Validation Accuracy: 0.627200\n",
      "Epoch 20, CIFAR-10 Batch 2:  Loss:     0.0054 Validation Accuracy: 0.615600\n",
      "Epoch 20, CIFAR-10 Batch 3:  Loss:     0.0072 Validation Accuracy: 0.620800\n",
      "Epoch 20, CIFAR-10 Batch 4:  Loss:     0.0057 Validation Accuracy: 0.616600\n",
      "Epoch 20, CIFAR-10 Batch 5:  Loss:     0.0050 Validation Accuracy: 0.629800\n",
      "Epoch 21, CIFAR-10 Batch 1:  Loss:     0.0062 Validation Accuracy: 0.627600\n",
      "Epoch 21, CIFAR-10 Batch 2:  Loss:     0.0063 Validation Accuracy: 0.611800\n",
      "Epoch 21, CIFAR-10 Batch 3:  Loss:     0.0040 Validation Accuracy: 0.611600\n",
      "Epoch 21, CIFAR-10 Batch 4:  Loss:     0.0055 Validation Accuracy: 0.619400\n",
      "Epoch 21, CIFAR-10 Batch 5:  Loss:     0.0046 Validation Accuracy: 0.623200\n",
      "Epoch 22, CIFAR-10 Batch 1:  Loss:     0.0068 Validation Accuracy: 0.624600\n",
      "Epoch 22, CIFAR-10 Batch 2:  Loss:     0.0032 Validation Accuracy: 0.617600\n",
      "Epoch 22, CIFAR-10 Batch 3:  Loss:     0.0072 Validation Accuracy: 0.607600\n",
      "Epoch 22, CIFAR-10 Batch 4:  Loss:     0.0052 Validation Accuracy: 0.625800\n",
      "Epoch 22, CIFAR-10 Batch 5:  Loss:     0.0032 Validation Accuracy: 0.618000\n",
      "Epoch 23, CIFAR-10 Batch 1:  Loss:     0.0076 Validation Accuracy: 0.628400\n",
      "Epoch 23, CIFAR-10 Batch 2:  Loss:     0.0013 Validation Accuracy: 0.621800\n",
      "Epoch 23, CIFAR-10 Batch 3:  Loss:     0.0021 Validation Accuracy: 0.622000\n",
      "Epoch 23, CIFAR-10 Batch 4:  Loss:     0.0046 Validation Accuracy: 0.626800\n",
      "Epoch 23, CIFAR-10 Batch 5:  Loss:     0.0030 Validation Accuracy: 0.629600\n",
      "Epoch 24, CIFAR-10 Batch 1:  Loss:     0.0028 Validation Accuracy: 0.633600\n",
      "Epoch 24, CIFAR-10 Batch 2:  Loss:     0.0015 Validation Accuracy: 0.633200\n",
      "Epoch 24, CIFAR-10 Batch 3:  Loss:     0.0019 Validation Accuracy: 0.622400\n",
      "Epoch 24, CIFAR-10 Batch 4:  Loss:     0.0044 Validation Accuracy: 0.624800\n",
      "Epoch 24, CIFAR-10 Batch 5:  Loss:     0.0037 Validation Accuracy: 0.630000\n",
      "Epoch 25, CIFAR-10 Batch 1:  Loss:     0.0034 Validation Accuracy: 0.631200\n",
      "Epoch 25, CIFAR-10 Batch 2:  Loss:     0.0022 Validation Accuracy: 0.628200\n",
      "Epoch 25, CIFAR-10 Batch 3:  Loss:     0.0013 Validation Accuracy: 0.625600\n",
      "Epoch 25, CIFAR-10 Batch 4:  Loss:     0.0032 Validation Accuracy: 0.632600\n",
      "Epoch 25, CIFAR-10 Batch 5:  Loss:     0.0008 Validation Accuracy: 0.630200\n",
      "Epoch 26, CIFAR-10 Batch 1:  Loss:     0.0015 Validation Accuracy: 0.632800\n",
      "Epoch 26, CIFAR-10 Batch 2:  Loss:     0.0011 Validation Accuracy: 0.628200\n",
      "Epoch 26, CIFAR-10 Batch 3:  Loss:     0.0017 Validation Accuracy: 0.627200\n",
      "Epoch 26, CIFAR-10 Batch 4:  Loss:     0.0038 Validation Accuracy: 0.622000\n",
      "Epoch 26, CIFAR-10 Batch 5:  Loss:     0.0019 Validation Accuracy: 0.625000\n",
      "Epoch 27, CIFAR-10 Batch 1:  Loss:     0.0022 Validation Accuracy: 0.624400\n",
      "Epoch 27, CIFAR-10 Batch 2:  Loss:     0.0021 Validation Accuracy: 0.632200\n",
      "Epoch 27, CIFAR-10 Batch 3:  Loss:     0.0009 Validation Accuracy: 0.632200\n",
      "Epoch 27, CIFAR-10 Batch 4:  Loss:     0.0023 Validation Accuracy: 0.625400\n",
      "Epoch 27, CIFAR-10 Batch 5:  Loss:     0.0011 Validation Accuracy: 0.627600\n",
      "Epoch 28, CIFAR-10 Batch 1:  Loss:     0.0010 Validation Accuracy: 0.628200\n",
      "Epoch 28, CIFAR-10 Batch 2:  Loss:     0.0014 Validation Accuracy: 0.627800\n",
      "Epoch 28, CIFAR-10 Batch 3:  Loss:     0.0005 Validation Accuracy: 0.631000\n",
      "Epoch 28, CIFAR-10 Batch 4:  Loss:     0.0020 Validation Accuracy: 0.626200\n",
      "Epoch 28, CIFAR-10 Batch 5:  Loss:     0.0009 Validation Accuracy: 0.637400\n",
      "Epoch 29, CIFAR-10 Batch 1:  Loss:     0.0008 Validation Accuracy: 0.626200\n",
      "Epoch 29, CIFAR-10 Batch 2:  Loss:     0.0004 Validation Accuracy: 0.635200\n",
      "Epoch 29, CIFAR-10 Batch 3:  Loss:     0.0005 Validation Accuracy: 0.633400\n",
      "Epoch 29, CIFAR-10 Batch 4:  Loss:     0.0013 Validation Accuracy: 0.621400\n",
      "Epoch 29, CIFAR-10 Batch 5:  Loss:     0.0005 Validation Accuracy: 0.636800\n",
      "Epoch 30, CIFAR-10 Batch 1:  Loss:     0.0009 Validation Accuracy: 0.636800\n",
      "Epoch 30, CIFAR-10 Batch 2:  Loss:     0.0004 Validation Accuracy: 0.630600\n",
      "Epoch 30, CIFAR-10 Batch 3:  Loss:     0.0004 Validation Accuracy: 0.631800\n",
      "Epoch 30, CIFAR-10 Batch 4:  Loss:     0.0031 Validation Accuracy: 0.619200\n",
      "Epoch 30, CIFAR-10 Batch 5:  Loss:     0.0007 Validation Accuracy: 0.632000\n",
      "Epoch 31, CIFAR-10 Batch 1:  Loss:     0.0008 Validation Accuracy: 0.635600\n",
      "Epoch 31, CIFAR-10 Batch 2:  Loss:     0.0003 Validation Accuracy: 0.635200\n",
      "Epoch 31, CIFAR-10 Batch 3:  Loss:     0.0003 Validation Accuracy: 0.633200\n",
      "Epoch 31, CIFAR-10 Batch 4:  Loss:     0.0014 Validation Accuracy: 0.621800\n",
      "Epoch 31, CIFAR-10 Batch 5:  Loss:     0.0006 Validation Accuracy: 0.631600\n",
      "Epoch 32, CIFAR-10 Batch 1:  Loss:     0.0005 Validation Accuracy: 0.628200\n",
      "Epoch 32, CIFAR-10 Batch 2:  Loss:     0.0007 Validation Accuracy: 0.626000\n",
      "Epoch 32, CIFAR-10 Batch 3:  Loss:     0.0002 Validation Accuracy: 0.636600\n",
      "Epoch 32, CIFAR-10 Batch 4:  Loss:     0.0010 Validation Accuracy: 0.617800\n",
      "Epoch 32, CIFAR-10 Batch 5:  Loss:     0.0006 Validation Accuracy: 0.640200\n",
      "Epoch 33, CIFAR-10 Batch 1:  Loss:     0.0003 Validation Accuracy: 0.632200\n",
      "Epoch 33, CIFAR-10 Batch 2:  Loss:     0.0004 Validation Accuracy: 0.628600\n",
      "Epoch 33, CIFAR-10 Batch 3:  Loss:     0.0001 Validation Accuracy: 0.638000\n",
      "Epoch 33, CIFAR-10 Batch 4:  Loss:     0.0019 Validation Accuracy: 0.623200\n",
      "Epoch 33, CIFAR-10 Batch 5:  Loss:     0.0004 Validation Accuracy: 0.635800\n",
      "Epoch 34, CIFAR-10 Batch 1:  Loss:     0.0004 Validation Accuracy: 0.636400\n",
      "Epoch 34, CIFAR-10 Batch 2:  Loss:     0.0001 Validation Accuracy: 0.626600\n",
      "Epoch 34, CIFAR-10 Batch 3:  Loss:     0.0004 Validation Accuracy: 0.627200\n",
      "Epoch 34, CIFAR-10 Batch 4:  Loss:     0.0014 Validation Accuracy: 0.629200\n",
      "Epoch 34, CIFAR-10 Batch 5:  Loss:     0.0005 Validation Accuracy: 0.634400\n",
      "Epoch 35, CIFAR-10 Batch 1:  Loss:     0.0003 Validation Accuracy: 0.629200\n",
      "Epoch 35, CIFAR-10 Batch 2:  Loss:     0.0001 Validation Accuracy: 0.627400\n",
      "Epoch 35, CIFAR-10 Batch 3:  Loss:     0.0006 Validation Accuracy: 0.631000\n",
      "Epoch 35, CIFAR-10 Batch 4:  Loss:     0.0013 Validation Accuracy: 0.630400\n",
      "Epoch 35, CIFAR-10 Batch 5:  Loss:     0.0004 Validation Accuracy: 0.632000\n",
      "Epoch 36, CIFAR-10 Batch 1:  Loss:     0.0003 Validation Accuracy: 0.625000\n",
      "Epoch 36, CIFAR-10 Batch 2:  Loss:     0.0003 Validation Accuracy: 0.623400\n",
      "Epoch 36, CIFAR-10 Batch 3:  Loss:     0.0002 Validation Accuracy: 0.633400\n",
      "Epoch 36, CIFAR-10 Batch 4:  Loss:     0.0005 Validation Accuracy: 0.634000\n",
      "Epoch 36, CIFAR-10 Batch 5:  Loss:     0.0005 Validation Accuracy: 0.628200\n",
      "Epoch 37, CIFAR-10 Batch 1:  Loss:     0.0002 Validation Accuracy: 0.641800\n",
      "Epoch 37, CIFAR-10 Batch 2:  Loss:     0.0002 Validation Accuracy: 0.628600\n",
      "Epoch 37, CIFAR-10 Batch 3:  Loss:     0.0001 Validation Accuracy: 0.633600\n",
      "Epoch 37, CIFAR-10 Batch 4:  Loss:     0.0012 Validation Accuracy: 0.631600\n",
      "Epoch 37, CIFAR-10 Batch 5:  Loss:     0.0002 Validation Accuracy: 0.633400\n",
      "Epoch 38, CIFAR-10 Batch 1:  Loss:     0.0002 Validation Accuracy: 0.635600\n",
      "Epoch 38, CIFAR-10 Batch 2:  Loss:     0.0002 Validation Accuracy: 0.626400\n",
      "Epoch 38, CIFAR-10 Batch 3:  Loss:     0.0002 Validation Accuracy: 0.628000\n",
      "Epoch 38, CIFAR-10 Batch 4:  Loss:     0.0005 Validation Accuracy: 0.631200\n",
      "Epoch 38, CIFAR-10 Batch 5:  Loss:     0.0002 Validation Accuracy: 0.622800\n",
      "Epoch 39, CIFAR-10 Batch 1:  Loss:     0.0002 Validation Accuracy: 0.632200\n",
      "Epoch 39, CIFAR-10 Batch 2:  Loss:     0.0003 Validation Accuracy: 0.624000\n",
      "Epoch 39, CIFAR-10 Batch 3:  Loss:     0.0001 Validation Accuracy: 0.626400\n",
      "Epoch 39, CIFAR-10 Batch 4:  Loss:     0.0004 Validation Accuracy: 0.633200\n",
      "Epoch 39, CIFAR-10 Batch 5:  Loss:     0.0002 Validation Accuracy: 0.627200\n",
      "Epoch 40, CIFAR-10 Batch 1:  Loss:     0.0002 Validation Accuracy: 0.629000\n",
      "Epoch 40, CIFAR-10 Batch 2:  Loss:     0.0001 Validation Accuracy: 0.632400\n",
      "Epoch 40, CIFAR-10 Batch 3:  Loss:     0.0002 Validation Accuracy: 0.634800\n",
      "Epoch 40, CIFAR-10 Batch 4:  Loss:     0.0004 Validation Accuracy: 0.626200\n",
      "Epoch 40, CIFAR-10 Batch 5:  Loss:     0.0001 Validation Accuracy: 0.628800\n",
      "Epoch 41, CIFAR-10 Batch 1:  Loss:     0.0003 Validation Accuracy: 0.626800\n",
      "Epoch 41, CIFAR-10 Batch 2:  Loss:     0.0001 Validation Accuracy: 0.626800\n",
      "Epoch 41, CIFAR-10 Batch 3:  Loss:     0.0001 Validation Accuracy: 0.634400\n",
      "Epoch 41, CIFAR-10 Batch 4:  Loss:     0.0007 Validation Accuracy: 0.631600\n",
      "Epoch 41, CIFAR-10 Batch 5:  Loss:     0.0003 Validation Accuracy: 0.620400\n",
      "Epoch 42, CIFAR-10 Batch 1:  Loss:     0.0001 Validation Accuracy: 0.631200\n",
      "Epoch 42, CIFAR-10 Batch 2:  Loss:     0.0001 Validation Accuracy: 0.630000\n",
      "Epoch 42, CIFAR-10 Batch 3:  Loss:     0.0002 Validation Accuracy: 0.627600\n",
      "Epoch 42, CIFAR-10 Batch 4:  Loss:     0.0011 Validation Accuracy: 0.628400\n",
      "Epoch 42, CIFAR-10 Batch 5:  Loss:     0.0002 Validation Accuracy: 0.628600\n",
      "Epoch 43, CIFAR-10 Batch 1:  Loss:     0.0002 Validation Accuracy: 0.634200\n",
      "Epoch 43, CIFAR-10 Batch 2:  Loss:     0.0001 Validation Accuracy: 0.622800\n",
      "Epoch 43, CIFAR-10 Batch 3:  Loss:     0.0002 Validation Accuracy: 0.623600\n",
      "Epoch 43, CIFAR-10 Batch 4:  Loss:     0.0010 Validation Accuracy: 0.627200\n",
      "Epoch 43, CIFAR-10 Batch 5:  Loss:     0.0002 Validation Accuracy: 0.623200\n",
      "Epoch 44, CIFAR-10 Batch 1:  Loss:     0.0001 Validation Accuracy: 0.632600\n",
      "Epoch 44, CIFAR-10 Batch 2:  Loss:     0.0001 Validation Accuracy: 0.625000\n",
      "Epoch 44, CIFAR-10 Batch 3:  Loss:     0.0002 Validation Accuracy: 0.628800\n",
      "Epoch 44, CIFAR-10 Batch 4:  Loss:     0.0003 Validation Accuracy: 0.626800\n",
      "Epoch 44, CIFAR-10 Batch 5:  Loss:     0.0002 Validation Accuracy: 0.631000\n",
      "Epoch 45, CIFAR-10 Batch 1:  Loss:     0.0001 Validation Accuracy: 0.633200\n",
      "Epoch 45, CIFAR-10 Batch 2:  Loss:     0.0001 Validation Accuracy: 0.621800\n",
      "Epoch 45, CIFAR-10 Batch 3:  Loss:     0.0001 Validation Accuracy: 0.625000\n",
      "Epoch 45, CIFAR-10 Batch 4:  Loss:     0.0008 Validation Accuracy: 0.633800\n",
      "Epoch 45, CIFAR-10 Batch 5:  Loss:     0.0001 Validation Accuracy: 0.622400\n",
      "Epoch 46, CIFAR-10 Batch 1:  Loss:     0.0002 Validation Accuracy: 0.622200\n",
      "Epoch 46, CIFAR-10 Batch 2:  Loss:     0.0001 Validation Accuracy: 0.616800\n",
      "Epoch 46, CIFAR-10 Batch 3:  Loss:     0.0002 Validation Accuracy: 0.621400\n",
      "Epoch 46, CIFAR-10 Batch 4:  Loss:     0.0003 Validation Accuracy: 0.626200\n",
      "Epoch 46, CIFAR-10 Batch 5:  Loss:     0.0001 Validation Accuracy: 0.622200\n",
      "Epoch 47, CIFAR-10 Batch 1:  Loss:     0.0002 Validation Accuracy: 0.631200\n",
      "Epoch 47, CIFAR-10 Batch 2:  Loss:     0.0000 Validation Accuracy: 0.624400\n",
      "Epoch 47, CIFAR-10 Batch 3:  Loss:     0.0001 Validation Accuracy: 0.628600\n",
      "Epoch 47, CIFAR-10 Batch 4:  Loss:     0.0004 Validation Accuracy: 0.626400\n",
      "Epoch 47, CIFAR-10 Batch 5:  Loss:     0.0001 Validation Accuracy: 0.629600\n",
      "Epoch 48, CIFAR-10 Batch 1:  Loss:     0.0003 Validation Accuracy: 0.630800\n",
      "Epoch 48, CIFAR-10 Batch 2:  Loss:     0.0000 Validation Accuracy: 0.630400\n",
      "Epoch 48, CIFAR-10 Batch 3:  Loss:     0.0002 Validation Accuracy: 0.629200\n",
      "Epoch 48, CIFAR-10 Batch 4:  Loss:     0.0008 Validation Accuracy: 0.635800\n",
      "Epoch 48, CIFAR-10 Batch 5:  Loss:     0.0000 Validation Accuracy: 0.623400\n",
      "Epoch 49, CIFAR-10 Batch 1:  Loss:     0.0004 Validation Accuracy: 0.625000\n",
      "Epoch 49, CIFAR-10 Batch 2:  Loss:     0.0001 Validation Accuracy: 0.624600\n",
      "Epoch 49, CIFAR-10 Batch 3:  Loss:     0.0001 Validation Accuracy: 0.625800\n",
      "Epoch 49, CIFAR-10 Batch 4:  Loss:     0.0004 Validation Accuracy: 0.631600\n",
      "Epoch 49, CIFAR-10 Batch 5:  Loss:     0.0003 Validation Accuracy: 0.616600\n",
      "Epoch 50, CIFAR-10 Batch 1:  Loss:     0.0002 Validation Accuracy: 0.620600\n",
      "Epoch 50, CIFAR-10 Batch 2:  Loss:     0.0001 Validation Accuracy: 0.616800\n",
      "Epoch 50, CIFAR-10 Batch 3:  Loss:     0.0000 Validation Accuracy: 0.627600\n",
      "Epoch 50, CIFAR-10 Batch 4:  Loss:     0.0003 Validation Accuracy: 0.624000\n",
      "Epoch 50, CIFAR-10 Batch 5:  Loss:     0.0003 Validation Accuracy: 0.619800\n"
     ]
    }
   ],
   "source": [
    "\"\"\"\n",
    "DON'T MODIFY ANYTHING IN THIS CELL\n",
    "\"\"\"\n",
    "save_model_path = './image_classification'\n",
    "\n",
    "print('Training...')\n",
    "with tf.Session() as sess:\n",
    "    # Initializing the variables\n",
    "    sess.run(tf.global_variables_initializer())\n",
    "    \n",
    "    # Training cycle\n",
    "    for epoch in range(epochs):\n",
    "        # Loop over all batches\n",
    "        n_batches = 5\n",
    "        for batch_i in range(1, n_batches + 1):\n",
    "            for batch_features, batch_labels in helper.load_preprocess_training_batch(batch_i, batch_size):\n",
    "                train_neural_network(sess, optimizer, keep_probability, batch_features, batch_labels)\n",
    "            print('Epoch {:>2}, CIFAR-10 Batch {}:  '.format(epoch + 1, batch_i), end='')\n",
    "            print_stats(sess, batch_features, batch_labels, cost, accuracy)\n",
    "            \n",
    "    # Save Model\n",
    "    saver = tf.train.Saver()\n",
    "    save_path = saver.save(sess, save_model_path)"
   ]
  },
  {
   "cell_type": "markdown",
   "metadata": {},
   "source": [
    "# Checkpoint\n",
    "The model has been saved to disk.\n",
    "## Test Model\n",
    "Test your model against the test dataset.  This will be your final accuracy. You should have an accuracy greater than 50%. If you don't, keep tweaking the model architecture and parameters."
   ]
  },
  {
   "cell_type": "code",
   "execution_count": 468,
   "metadata": {
    "collapsed": false
   },
   "outputs": [
    {
     "name": "stdout",
     "output_type": "stream",
     "text": [
      "Testing Accuracy: 0.61103515625\n",
      "\n"
     ]
    },
    {
     "data": {
      "image/png": "[encoded data removed]",
      "text/plain": [
       "<matplotlib.figure.Figure at 0x2ab81949eb8>"
      ]
     },
     "metadata": {
      "image/png": {
       "height": 319,
       "width": 355
      }
     },
     "output_type": "display_data"
    }
   ],
   "source": [
    "\"\"\"\n",
    "DON'T MODIFY ANYTHING IN THIS CELL\n",
    "\"\"\"\n",
    "%matplotlib inline\n",
    "%config InlineBackend.figure_format = 'retina'\n",
    "\n",
    "import tensorflow as tf\n",
    "import pickle\n",
    "import helper\n",
    "import random\n",
    "\n",
    "# Set batch size if not already set\n",
    "try:\n",
    "    if batch_size:\n",
    "        pass\n",
    "except NameError:\n",
    "    batch_size = 64\n",
    "\n",
    "save_model_path = './image_classification'\n",
    "n_samples = 4\n",
    "top_n_predictions = 3\n",
    "\n",
    "def test_model():\n",
    "    \"\"\"\n",
    "    Test the saved model against the test dataset\n",
    "    \"\"\"\n",
    "\n",
    "    test_features, test_labels = pickle.load(open('preprocess_training.p', mode='rb'))\n",
    "    loaded_graph = tf.Graph()\n",
    "\n",
    "    with tf.Session(graph=loaded_graph) as sess:\n",
    "        # Load model\n",
    "        loader = tf.train.import_meta_graph(save_model_path + '.meta')\n",
    "        loader.restore(sess, save_model_path)\n",
    "\n",
    "        # Get Tensors from loaded model\n",
    "        loaded_x = loaded_graph.get_tensor_by_name('x:0')\n",
    "        loaded_y = loaded_graph.get_tensor_by_name('y:0')\n",
    "        loaded_keep_prob = loaded_graph.get_tensor_by_name('keep_prob:0')\n",
    "        loaded_logits = loaded_graph.get_tensor_by_name('logits:0')\n",
    "        loaded_acc = loaded_graph.get_tensor_by_name('accuracy:0')\n",
    "        \n",
    "        # Get accuracy in batches for memory limitations\n",
    "        test_batch_acc_total = 0\n",
    "        test_batch_count = 0\n",
    "        \n",
    "        for train_feature_batch, train_label_batch in helper.batch_features_labels(test_features, test_labels, batch_size):\n",
    "            test_batch_acc_total += sess.run(\n",
    "                loaded_acc,\n",
    "                feed_dict={loaded_x: train_feature_batch, loaded_y: train_label_batch, loaded_keep_prob: 1.0})\n",
    "            test_batch_count += 1\n",
    "\n",
    "        print('Testing Accuracy: {}\\n'.format(test_batch_acc_total/test_batch_count))\n",
    "\n",
    "        # Print Random Samples\n",
    "        random_test_features, random_test_labels = tuple(zip(*random.sample(list(zip(test_features, test_labels)), n_samples)))\n",
    "        random_test_predictions = sess.run(\n",
    "            tf.nn.top_k(tf.nn.softmax(loaded_logits), top_n_predictions),\n",
    "            feed_dict={loaded_x: random_test_features, loaded_y: random_test_labels, loaded_keep_prob: 1.0})\n",
    "        helper.display_image_predictions(random_test_features, random_test_labels, random_test_predictions)\n",
    "\n",
    "\n",
    "test_model()"
   ]
  },
  {
   "cell_type": "markdown",
   "metadata": {},
   "source": [
    "## Why 50-70% Accuracy?\n",
    "You might be wondering why you can't get an accuracy any higher. First things first, 50% isn't bad for a simple CNN.  Pure guessing would get you 10% accuracy. However, you might notice people are getting scores [well above 70%](http://rodrigob.github.io/are_we_there_yet/build/classification_datasets_results.html#43494641522d3130).  That's because we haven't taught you all there is to know about neural networks. We still need to cover a few more techniques.\n",
    "## Submitting This Project\n",
    "When submitting this project, make sure to run all the cells before saving the notebook.  Save the notebook file as \"dlnd_image_classification.ipynb\" and save it as a HTML file under \"File\" -> \"Download as\".  Include the \"helper.py\" and \"problem_unittests.py\" files in your submission."
   ]
  },
  {
   "cell_type": "code",
   "execution_count": null,
   "metadata": {
    "collapsed": true
   },
   "outputs": [],
   "source": []
  }
 ],
 "metadata": {
  "kernelspec": {
   "display_name": "Python 3",
   "language": "python",
   "name": "python3"
  },
  "language_info": {
   "codemirror_mode": {
    "name": "ipython",
    "version": 3
   },
   "file_extension": ".py",
   "mimetype": "text/x-python",
   "name": "python",
   "nbconvert_exporter": "python",
   "pygments_lexer": "ipython3",
   "version": "3.5.2"
  }
 },
 "nbformat": 4,
 "nbformat_minor": 0
}
