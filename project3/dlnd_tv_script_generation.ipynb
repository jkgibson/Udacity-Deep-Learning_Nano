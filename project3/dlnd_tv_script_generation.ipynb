{
 "cells": [
  {
   "cell_type": "markdown",
   "metadata": {
    "deletable": true,
    "editable": true
   },
   "source": [
    "# TV Script Generation\n",
    "In this project, you'll generate your own [Simpsons](https://en.wikipedia.org/wiki/The_Simpsons) TV scripts using RNNs.  You'll be using part of the [Simpsons dataset](https://www.kaggle.com/wcukierski/the-simpsons-by-the-data) of scripts from 27 seasons.  The Neural Network you'll build will generate a new TV script for a scene at [Moe's Tavern](https://simpsonswiki.com/wiki/Moe's_Tavern).\n",
    "## Get the Data\n",
    "The data is already provided for you.  You'll be using a subset of the original dataset.  It consists of only the scenes in Moe's Tavern.  This doesn't include other versions of the tavern, like \"Moe's Cavern\", \"Flaming Moe's\", \"Uncle Moe's Family Feed-Bag\", etc.."
   ]
  },
  {
   "cell_type": "code",
   "execution_count": 184,
   "metadata": {
    "collapsed": false,
    "deletable": true,
    "editable": true
   },
   "outputs": [],
   "source": [
    "\"\"\"\n",
    "DON'T MODIFY ANYTHING IN THIS CELL\n",
    "\"\"\"\n",
    "import helper\n",
    "\n",
    "data_dir = './data/simpsons/moes_tavern_lines.txt'\n",
    "text = helper.load_data(data_dir)\n",
    "# Ignore notice, since we don't use it for analysing the data\n",
    "text = text[81:]"
   ]
  },
  {
   "cell_type": "markdown",
   "metadata": {
    "deletable": true,
    "editable": true
   },
   "source": [
    "## Explore the Data\n",
    "Play around with `view_sentence_range` to view different parts of the data."
   ]
  },
  {
   "cell_type": "code",
   "execution_count": 185,
   "metadata": {
    "collapsed": false,
    "deletable": true,
    "editable": true
   },
   "outputs": [
    {
     "name": "stdout",
     "output_type": "stream",
     "text": [
      "Dataset Stats\n",
      "Roughly the number of unique words: 11492\n",
      "Number of scenes: 262\n",
      "Average number of sentences in each scene: 15.251908396946565\n",
      "Number of lines: 4258\n",
      "Average number of words in each line: 11.50164396430249\n",
      "\n",
      "The sentences 0 to 10:\n",
      "\n",
      "Moe_Szyslak: (INTO PHONE) Moe's Tavern. Where the elite meet to drink.\n",
      "Bart_Simpson: Eh, yeah, hello, is Mike there? Last name, Rotch.\n",
      "Moe_Szyslak: (INTO PHONE) Hold on, I'll check. (TO BARFLIES) Mike Rotch. Mike Rotch. Hey, has anybody seen Mike Rotch, lately?\n",
      "Moe_Szyslak: (INTO PHONE) Listen you little puke. One of these days I'm gonna catch you, and I'm gonna carve my name on your back with an ice pick.\n",
      "Moe_Szyslak: What's the matter Homer? You're not your normal effervescent self.\n",
      "Homer_Simpson: I got my problems, Moe. Give me another one.\n",
      "Moe_Szyslak: Homer, hey, you should not drink to forget your problems.\n",
      "Barney_Gumble: Yeah, you should only drink to enhance your social skills.\n",
      "\n"
     ]
    }
   ],
   "source": [
    "view_sentence_range = (0, 10)\n",
    "\n",
    "\"\"\"\n",
    "DON'T MODIFY ANYTHING IN THIS CELL\n",
    "\"\"\"\n",
    "import numpy as np\n",
    "\n",
    "print('Dataset Stats')\n",
    "print('Roughly the number of unique words: {}'.format(len({word: None for word in text.split()})))\n",
    "scenes = text.split('\\n\\n')\n",
    "print('Number of scenes: {}'.format(len(scenes)))\n",
    "sentence_count_scene = [scene.count('\\n') for scene in scenes]\n",
    "print('Average number of sentences in each scene: {}'.format(np.average(sentence_count_scene)))\n",
    "\n",
    "sentences = [sentence for scene in scenes for sentence in scene.split('\\n')]\n",
    "print('Number of lines: {}'.format(len(sentences)))\n",
    "word_count_sentence = [len(sentence.split()) for sentence in sentences]\n",
    "print('Average number of words in each line: {}'.format(np.average(word_count_sentence)))\n",
    "\n",
    "print()\n",
    "print('The sentences {} to {}:'.format(*view_sentence_range))\n",
    "print('\\n'.join(text.split('\\n')[view_sentence_range[0]:view_sentence_range[1]]))"
   ]
  },
  {
   "cell_type": "markdown",
   "metadata": {
    "deletable": true,
    "editable": true
   },
   "source": [
    "## Implement Preprocessing Functions\n",
    "The first thing to do to any dataset is preprocessing.  Implement the following preprocessing functions below:\n",
    "- Lookup Table\n",
    "- Tokenize Punctuation\n",
    "\n",
    "### Lookup Table\n",
    "To create a word embedding, you first need to transform the words to ids.  In this function, create two dictionaries:\n",
    "- Dictionary to go from the words to an id, we'll call `vocab_to_int`\n",
    "- Dictionary to go from the id to word, we'll call `int_to_vocab`\n",
    "\n",
    "Return these dictionaries in the following tuple `(vocab_to_int, int_to_vocab)`"
   ]
  },
  {
   "cell_type": "code",
   "execution_count": 186,
   "metadata": {
    "collapsed": false,
    "deletable": true,
    "editable": true
   },
   "outputs": [
    {
     "name": "stdout",
     "output_type": "stream",
     "text": [
      "Tests Passed\n"
     ]
    }
   ],
   "source": [
    "import numpy as np\n",
    "import problem_unittests as tests\n",
    "\n",
    "def create_lookup_tables(text):\n",
    "    \"\"\"\n",
    "    Create lookup tables for vocabulary\n",
    "    :param text: The text of tv scripts split into words\n",
    "    :return: A tuple of dicts (vocab_to_int, int_to_vocab)\n",
    "    \"\"\"\n",
    "    \n",
    "    from collections import Counter\n",
    "    counts = Counter(text)\n",
    "    #sort the vocab list by most frequently found words\n",
    "    vocab = sorted(counts, key=counts.get, reverse = True)\n",
    "    # Dictionary to go from the words to an integer id, we'll call vocab_to_int\n",
    "    vocab_to_int = {word: i for i, word in enumerate(vocab)}\n",
    "    # Dictionary to go from the integer id to word, we'll call int_to_vocab\n",
    "    int_to_vocab = {vocab: index for index, vocab in vocab_to_int.items()}\n",
    "    return vocab_to_int, int_to_vocab\n",
    "\n",
    "\n",
    "\"\"\"\n",
    "DON'T MODIFY ANYTHING IN THIS CELL THAT IS BELOW THIS LINE\n",
    "\"\"\"\n",
    "tests.test_create_lookup_tables(create_lookup_tables)"
   ]
  },
  {
   "cell_type": "markdown",
   "metadata": {
    "deletable": true,
    "editable": true
   },
   "source": [
    "### Tokenize Punctuation\n",
    "We'll be splitting the script into a word array using spaces as delimiters.  However, punctuations like periods and exclamation marks make it hard for the neural network to distinguish between the word \"bye\" and \"bye!\".\n",
    "\n",
    "Implement the function `token_lookup` to return a dict that will be used to tokenize symbols like \"!\" into \"||Exclamation_Mark||\".  Create a dictionary for the following symbols where the symbol is the key and value is the token:\n",
    "- Period ( . )\n",
    "- Comma ( , )\n",
    "- Quotation Mark ( \" )\n",
    "- Semicolon ( ; )\n",
    "- Exclamation mark ( ! )\n",
    "- Question mark ( ? )\n",
    "- Left Parentheses ( ( )\n",
    "- Right Parentheses ( ) )\n",
    "- Dash ( -- )\n",
    "- Return ( \\n )\n",
    "\n",
    "This dictionary will be used to token the symbols and add the delimiter (space) around it.  This separates the symbols as it's own word, making it easier for the neural network to predict on the next word. Make sure you don't use a token that could be confused as a word. Instead of using the token \"dash\", try using something like \"||dash||\"."
   ]
  },
  {
   "cell_type": "code",
   "execution_count": 187,
   "metadata": {
    "collapsed": false,
    "deletable": true,
    "editable": true
   },
   "outputs": [
    {
     "name": "stdout",
     "output_type": "stream",
     "text": [
      "Tests Passed\n"
     ]
    }
   ],
   "source": [
    "def token_lookup():\n",
    "    \"\"\"\n",
    "    Generate a dict to turn punctuation into a token.\n",
    "    :return: Tokenize dictionary where the key is the punctuation and the value is the token\n",
    "    \"\"\"\n",
    "    # Implement the function token_lookup to return a dict that will be used to tokenize symbols like \"!\" into \"||Exclamation_Mark||\".\n",
    "    lookup_table = {'.': '||Period||',\n",
    "                    ',': '||Comma||',\n",
    "                    '\\\"': '||Quotation_Mark||',\n",
    "                    ';': '||Semicolon||',\n",
    "                    '!':'||Exclamation_Mark||',\n",
    "                    '?': '||Question_Mark||',\n",
    "                    '(': '||Left_Parentheses||',\n",
    "                    ')': '||Right_Parentheses||',\n",
    "                    '--': '||Dash||',\n",
    "                    '\\n': '||Return||'                 \n",
    "                   }\n",
    "    return lookup_table\n",
    "\n",
    "\"\"\"\n",
    "DON'T MODIFY ANYTHING IN THIS CELL THAT IS BELOW THIS LINE\n",
    "\"\"\"\n",
    "tests.test_tokenize(token_lookup)"
   ]
  },
  {
   "cell_type": "markdown",
   "metadata": {
    "deletable": true,
    "editable": true
   },
   "source": [
    "## Preprocess all the data and save it\n",
    "Running the code cell below will preprocess all the data and save it to file."
   ]
  },
  {
   "cell_type": "code",
   "execution_count": 188,
   "metadata": {
    "collapsed": false,
    "deletable": true,
    "editable": true
   },
   "outputs": [],
   "source": [
    "\"\"\"\n",
    "DON'T MODIFY ANYTHING IN THIS CELL\n",
    "\"\"\"\n",
    "# Preprocess Training, Validation, and Testing Data\n",
    "helper.preprocess_and_save_data(data_dir, token_lookup, create_lookup_tables)"
   ]
  },
  {
   "cell_type": "markdown",
   "metadata": {
    "deletable": true,
    "editable": true
   },
   "source": [
    "# Check Point\n",
    "This is your first checkpoint. If you ever decide to come back to this notebook or have to restart the notebook, you can start from here. The preprocessed data has been saved to disk."
   ]
  },
  {
   "cell_type": "code",
   "execution_count": 189,
   "metadata": {
    "collapsed": false,
    "deletable": true,
    "editable": true
   },
   "outputs": [],
   "source": [
    "\"\"\"\n",
    "DON'T MODIFY ANYTHING IN THIS CELL\n",
    "\"\"\"\n",
    "import helper\n",
    "import numpy as np\n",
    "import problem_unittests as tests\n",
    "\n",
    "int_text, vocab_to_int, int_to_vocab, token_dict = helper.load_preprocess()"
   ]
  },
  {
   "cell_type": "markdown",
   "metadata": {
    "deletable": true,
    "editable": true
   },
   "source": [
    "## Build the Neural Network\n",
    "You'll build the components necessary to build a RNN by implementing the following functions below:\n",
    "- get_inputs\n",
    "- get_init_cell\n",
    "- get_embed\n",
    "- build_rnn\n",
    "- build_nn\n",
    "- get_batches\n",
    "\n",
    "### Check the Version of TensorFlow and Access to GPU"
   ]
  },
  {
   "cell_type": "code",
   "execution_count": 190,
   "metadata": {
    "collapsed": false
   },
   "outputs": [
    {
     "name": "stdout",
     "output_type": "stream",
     "text": [
      "TensorFlow Version: 1.0.0\n",
      "Default GPU Device: /gpu:0\n"
     ]
    }
   ],
   "source": [
    "\"\"\"\n",
    "DON'T MODIFY ANYTHING IN THIS CELL\n",
    "\"\"\"\n",
    "from distutils.version import LooseVersion\n",
    "import warnings\n",
    "import tensorflow as tf\n",
    "\n",
    "# Check TensorFlow Version\n",
    "assert LooseVersion(tf.__version__) >= LooseVersion('1.0'), 'Please use TensorFlow version 1.0 or newer'\n",
    "print('TensorFlow Version: {}'.format(tf.__version__))\n",
    "\n",
    "# Check for a GPU\n",
    "if not tf.test.gpu_device_name():\n",
    "    warnings.warn('No GPU found. Please use a GPU to train your neural network.')\n",
    "else:\n",
    "    print('Default GPU Device: {}'.format(tf.test.gpu_device_name()))"
   ]
  },
  {
   "cell_type": "markdown",
   "metadata": {},
   "source": [
    "### Input\n",
    "Implement the `get_inputs()` function to create TF Placeholders for the Neural Network.  It should create the following placeholders:\n",
    "- Input text placeholder named \"input\" using the [TF Placeholder](https://www.tensorflow.org/api_docs/python/tf/placeholder) `name` parameter.\n",
    "- Targets placeholder\n",
    "- Learning Rate placeholder\n",
    "\n",
    "Return the placeholders in the following the tuple `(Input, Targets, LearingRate)`"
   ]
  },
  {
   "cell_type": "code",
   "execution_count": 191,
   "metadata": {
    "collapsed": false,
    "deletable": true,
    "editable": true
   },
   "outputs": [
    {
     "name": "stdout",
     "output_type": "stream",
     "text": [
      "Tests Passed\n"
     ]
    }
   ],
   "source": [
    "def get_inputs():\n",
    "    \"\"\"\n",
    "    Create TF Placeholders for input, targets, and learning rate.\n",
    "    :return: Tuple (input, targets, learning rate)\n",
    "    \"\"\"\n",
    "    # Input text placeholder named \"input\" using the TF Placeholder name parameter\n",
    "    inputs = tf.placeholder(tf.int32,[None, None], name=\"input\")\n",
    "    # Targets placeholder\n",
    "    targets = tf.placeholder(tf.int32, [None, None], name=\"targets\")\n",
    "    # Learning Rate placeholder\n",
    "    learning_rate = tf.placeholder(tf.float32, name=\"Learning_Rate\")\n",
    "    return inputs, targets, learning_rate\n",
    "\n",
    "\n",
    "\"\"\"\n",
    "DON'T MODIFY ANYTHING IN THIS CELL THAT IS BELOW THIS LINE\n",
    "\"\"\"\n",
    "tests.test_get_inputs(get_inputs)"
   ]
  },
  {
   "cell_type": "markdown",
   "metadata": {
    "deletable": true,
    "editable": true
   },
   "source": [
    "### Build RNN Cell and Initialize\n",
    "Stack one or more [`BasicLSTMCells`](https://www.tensorflow.org/api_docs/python/tf/contrib/rnn/BasicLSTMCell) in a [`MultiRNNCell`](https://www.tensorflow.org/api_docs/python/tf/contrib/rnn/MultiRNNCell).\n",
    "- The Rnn size should be set using `rnn_size`\n",
    "- Initalize Cell State using the MultiRNNCell's [`zero_state()`](https://www.tensorflow.org/api_docs/python/tf/contrib/rnn/MultiRNNCell#zero_state) function\n",
    "    - Apply the name \"initial_state\" to the initial state using [`tf.identity()`](https://www.tensorflow.org/api_docs/python/tf/identity)\n",
    "\n",
    "Return the cell and initial state in the following tuple `(Cell, InitialState)`"
   ]
  },
  {
   "cell_type": "code",
   "execution_count": 193,
   "metadata": {
    "collapsed": false,
    "deletable": true,
    "editable": true
   },
   "outputs": [
    {
     "name": "stdout",
     "output_type": "stream",
     "text": [
      "Tests Passed\n"
     ]
    }
   ],
   "source": [
    "def get_init_cell(batch_size, rnn_size):\n",
    "    \"\"\"\n",
    "    Create an RNN Cell and initialize it.\n",
    "    :param batch_size: Size of batches\n",
    "    :param rnn_size: Size of RNNs\n",
    "    :return: Tuple (cell, initialize state)\n",
    "    \"\"\"\n",
    "    \n",
    "    \n",
    "    #Building a basic LSTM cell here\n",
    "    lstm = tf.contrib.rnn.BasicLSTMCell(rnn_size)\n",
    "    \n",
    "    # Let's make just one LSTM layer here \n",
    "    cell = tf.contrib.rnn.MultiRNNCell([lstm])\n",
    "    \n",
    "    # Initialize the state with all zeros\n",
    "    initialize_state = tf.identity(cell.zero_state(batch_size, tf.int32), name=\"initial_state\")\n",
    "    \n",
    "    return cell, initialize_state\n",
    "\n",
    "\n",
    "\"\"\"\n",
    "DON'T MODIFY ANYTHING IN THIS CELL THAT IS BELOW THIS LINE\n",
    "\"\"\"\n",
    "tests.test_get_init_cell(get_init_cell)"
   ]
  },
  {
   "cell_type": "markdown",
   "metadata": {
    "deletable": true,
    "editable": true
   },
   "source": [
    "### Word Embedding\n",
    "Apply embedding to `input_data` using TensorFlow.  Return the embedded sequence."
   ]
  },
  {
   "cell_type": "code",
   "execution_count": 194,
   "metadata": {
    "collapsed": false,
    "deletable": true,
    "editable": true
   },
   "outputs": [
    {
     "name": "stdout",
     "output_type": "stream",
     "text": [
      "Tests Passed\n"
     ]
    }
   ],
   "source": [
    "def get_embed(input_data, vocab_size, embed_dim):\n",
    "    \"\"\"\n",
    "    Create embedding for <input_data>.\n",
    "    :param input_data: TF placeholder for text input.\n",
    "    :param vocab_size: Number of words in vocabulary.\n",
    "    :param embed_dim: Number of embedding dimensions\n",
    "    :return: Embedded input.\n",
    "    \"\"\"\n",
    "    \n",
    "    #Initialize the layer with a truncated normal weight initializationTo\n",
    "    embedding = tf.Variable(tf.truncated_normal((vocab_size, embed_dim), stddev=0.1))\n",
    "    # Apply embedding to input_data using TensorFlow\n",
    "    embed = tf.nn.embedding_lookup(embedding, input_data)\n",
    "    return embed\n",
    "\n",
    "\n",
    "\"\"\"\n",
    "DON'T MODIFY ANYTHING IN THIS CELL THAT IS BELOW THIS LINE\n",
    "\"\"\"\n",
    "tests.test_get_embed(get_embed)"
   ]
  },
  {
   "cell_type": "markdown",
   "metadata": {
    "deletable": true,
    "editable": true
   },
   "source": [
    "### Build RNN\n",
    "You created a RNN Cell in the `get_init_cell()` function.  Time to use the cell to create a RNN.\n",
    "- Build the RNN using the [`tf.nn.dynamic_rnn()`](https://www.tensorflow.org/api_docs/python/tf/nn/dynamic_rnn)\n",
    " - Apply the name \"final_state\" to the final state using [`tf.identity()`](https://www.tensorflow.org/api_docs/python/tf/identity)\n",
    "\n",
    "Return the outputs and final_state state in the following tuple `(Outputs, FinalState)` "
   ]
  },
  {
   "cell_type": "code",
   "execution_count": 195,
   "metadata": {
    "collapsed": false,
    "deletable": true,
    "editable": true
   },
   "outputs": [
    {
     "name": "stdout",
     "output_type": "stream",
     "text": [
      "Tests Passed\n"
     ]
    }
   ],
   "source": [
    "def build_rnn(cell, inputs):\n",
    "    \"\"\"\n",
    "    Create a RNN using a RNN Cell\n",
    "    :param cell: RNN Cell\n",
    "    :param inputs: Input text data\n",
    "    :return: Tuple (Outputs, Final State)\n",
    "    \"\"\"\n",
    "   \n",
    "    # Build the RNN using the tf.nn.dynamic_rnn\n",
    "    outputs, final_state = tf.nn.dynamic_rnn(cell, inputs, dtype=tf.float32)\n",
    "    # Apply the name \"final_state\" to the final state using tf.identity\n",
    "    final_state = tf.identity(final_state, name = \"final_state\")\n",
    "    return outputs, final_state\n",
    "\n",
    "\n",
    "\"\"\"\n",
    "DON'T MODIFY ANYTHING IN THIS CELL THAT IS BELOW THIS LINE\n",
    "\"\"\"\n",
    "tests.test_build_rnn(build_rnn)"
   ]
  },
  {
   "cell_type": "markdown",
   "metadata": {
    "deletable": true,
    "editable": true
   },
   "source": [
    "### Build the Neural Network\n",
    "Apply the functions you implemented above to:\n",
    "- Apply embedding to `input_data` using your `get_embed(input_data, vocab_size, embed_dim)` function.\n",
    "- Build RNN using `cell` and your `build_rnn(cell, inputs)` function.\n",
    "- Apply a fully connected layer with a linear activation and `vocab_size` as the number of outputs.\n",
    "\n",
    "Return the logits and final state in the following tuple (Logits, FinalState) "
   ]
  },
  {
   "cell_type": "code",
   "execution_count": 196,
   "metadata": {
    "collapsed": false,
    "deletable": true,
    "editable": true
   },
   "outputs": [
    {
     "name": "stdout",
     "output_type": "stream",
     "text": [
      "Tests Passed\n"
     ]
    }
   ],
   "source": [
    "def build_nn(cell, rnn_size, input_data, vocab_size):\n",
    "    \"\"\"\n",
    "    Build part of the neural network\n",
    "    :param cell: RNN cell\n",
    "    :param rnn_size: Size of rnns\n",
    "    :param input_data: Input data\n",
    "    :param vocab_size: Vocabulary size\n",
    "    :return: Tuple (Logits, FinalState)\n",
    "    \"\"\"\n",
    "        \n",
    "    # Apply embedding to input_data using your get_embed(input_data, vocab_size, embed_dim) function.\n",
    "    embedding = get_embed(input_data, vocab_size, rnn_size)\n",
    "    \n",
    "    # Build RNN using cell and your build_rnn(cell, inputs) function. Inputs to build rnn is the cell and embedding\n",
    "    outputs, final_state = build_rnn(cell, embedding)\n",
    "    \n",
    "    #Apply a fully connected layer with a linear activation and vocab_size as the number of outputs.\n",
    "    w = tf.truncated_normal_initializer(stddev=0.1)\n",
    "    b = tf.zeros_initializer()\n",
    "    logits = tf.contrib.layers.fully_connected(outputs,vocab_size,weights_initializer=w, biases_initializer=b,activation_fn=None)\n",
    "    return logits, final_state\n",
    "\n",
    "\n",
    "\"\"\"\n",
    "DON'T MODIFY ANYTHING IN THIS CELL THAT IS BELOW THIS LINE\n",
    "\"\"\"\n",
    "tests.test_build_nn(build_nn)"
   ]
  },
  {
   "cell_type": "markdown",
   "metadata": {
    "deletable": true,
    "editable": true
   },
   "source": [
    "### Batches\n",
    "Implement `get_batches` to create batches of input and targets using `int_text`.  The batches should be a Numpy array with the shape `(number of batches, 2, batch size, sequence length)`. Each batch contains two elements:\n",
    "- The first element is a single batch of **input** with the shape `[batch size, sequence length]`\n",
    "- The second element is a single batch of **targets** with the shape `[batch size, sequence length]`\n",
    "\n",
    "If you can't fill the last batch with enough data, drop the last batch.\n",
    "\n",
    "For exmple, `get_batches([1, 2, 3, 4, 5, 6, 7, 8, 9, 10, 11, 12, 13, 14, 15], 2, 3)` would return a Numpy array of the following:\n",
    "```\n",
    "[\n",
    "  # First Batch\n",
    "  [\n",
    "    # Batch of Input\n",
    "    [[ 1  2  3], [ 7  8  9]],\n",
    "    # Batch of targets\n",
    "    [[ 2  3  4], [ 8  9 10]]\n",
    "  ],\n",
    " \n",
    "  # Second Batch\n",
    "  [\n",
    "    # Batch of Input\n",
    "    [[ 4  5  6], [10 11 12]],\n",
    "    # Batch of targets\n",
    "    [[ 5  6  7], [11 12 13]]\n",
    "  ]\n",
    "]\n",
    "```"
   ]
  },
  {
   "cell_type": "code",
   "execution_count": 197,
   "metadata": {
    "collapsed": false,
    "deletable": true,
    "editable": true
   },
   "outputs": [
    {
     "name": "stdout",
     "output_type": "stream",
     "text": [
      "Tests Passed\n"
     ]
    }
   ],
   "source": [
    "def get_batches(int_text, batch_size, seq_length):\n",
    "    \"\"\"\n",
    "    Return batches of input and target\n",
    "    :param int_text: Text with the words replaced by their ids\n",
    "    :param batch_size: The size of batch\n",
    "    :param seq_length: The length of sequence\n",
    "    :return: Batches as a Numpy array\n",
    "    \"\"\"\n",
    "    # TODO: Implement Function\n",
    "    n_batches = int(len(int_text) / (batch_size * seq_length))\n",
    "   \n",
    "\n",
    "    # Drop the last few characters to make only full batches\n",
    "    xdata = np.array(int_text[: n_batches * batch_size * seq_length])\n",
    "    ydata = np.array(int_text[1: n_batches * batch_size * seq_length + 1])\n",
    "    \n",
    "    #print(xdata)\n",
    "    #print(ydata)\n",
    "    x_batches = np.split(xdata.reshape(batch_size, -1), n_batches, 1)\n",
    "    y_batches = np.split(ydata.reshape(batch_size, -1), n_batches, 1)\n",
    "    batches_as_list = list(zip(x_batches, y_batches))\n",
    "    \n",
    "    return np.array(batches_as_list)\n",
    "\n",
    "\n",
    "\"\"\"\n",
    "DON'T MODIFY ANYTHING IN THIS CELL THAT IS BELOW THIS LINE\n",
    "\"\"\"\n",
    "tests.test_get_batches(get_batches)"
   ]
  },
  {
   "cell_type": "markdown",
   "metadata": {
    "deletable": true,
    "editable": true
   },
   "source": [
    "## Neural Network Training\n",
    "### Hyperparameters\n",
    "Tune the following parameters:\n",
    "\n",
    "- Set `num_epochs` to the number of epochs.\n",
    "- Set `batch_size` to the batch size.\n",
    "- Set `rnn_size` to the size of the RNNs.\n",
    "- Set `seq_length` to the length of sequence.\n",
    "- Set `learning_rate` to the learning rate.\n",
    "- Set `show_every_n_batches` to the number of batches the neural network should print progress."
   ]
  },
  {
   "cell_type": "code",
   "execution_count": 201,
   "metadata": {
    "collapsed": false,
    "deletable": true,
    "editable": true
   },
   "outputs": [],
   "source": [
    "# Number of Epochs\n",
    "num_epochs = 70\n",
    "# Batch Size\n",
    "batch_size = 100\n",
    "# RNN Size\n",
    "rnn_size = 300\n",
    "# Sequence Length\n",
    "seq_length = 20\n",
    "# Learning Rate\n",
    "learning_rate = 0.01\n",
    "# Show stats for every n number of batches\n",
    "show_every_n_batches = 10\n",
    "\n",
    "\n",
    "\n",
    "\n",
    "\"\"\"\n",
    "DON'T MODIFY ANYTHING IN THIS CELL THAT IS BELOW THIS LINE\n",
    "\"\"\"\n",
    "save_dir = './save'"
   ]
  },
  {
   "cell_type": "markdown",
   "metadata": {
    "deletable": true,
    "editable": true
   },
   "source": [
    "### Build the Graph\n",
    "Build the graph using the neural network you implemented."
   ]
  },
  {
   "cell_type": "code",
   "execution_count": 202,
   "metadata": {
    "collapsed": false,
    "deletable": true,
    "editable": true
   },
   "outputs": [],
   "source": [
    "\"\"\"\n",
    "DON'T MODIFY ANYTHING IN THIS CELL\n",
    "\"\"\"\n",
    "from tensorflow.contrib import seq2seq\n",
    "\n",
    "train_graph = tf.Graph()\n",
    "with train_graph.as_default():\n",
    "    vocab_size = len(int_to_vocab)\n",
    "    input_text, targets, lr = get_inputs()\n",
    "    input_data_shape = tf.shape(input_text)\n",
    "    cell, initial_state = get_init_cell(input_data_shape[0], rnn_size)\n",
    "    logits, final_state = build_nn(cell, rnn_size, input_text, vocab_size)\n",
    "\n",
    "    # Probabilities for generating words\n",
    "    probs = tf.nn.softmax(logits, name='probs')\n",
    "\n",
    "    # Loss function\n",
    "    cost = seq2seq.sequence_loss(\n",
    "        logits,\n",
    "        targets,\n",
    "        tf.ones([input_data_shape[0], input_data_shape[1]]))\n",
    "\n",
    "    # Optimizer\n",
    "    optimizer = tf.train.AdamOptimizer(lr)\n",
    "\n",
    "    # Gradient Clipping\n",
    "    gradients = optimizer.compute_gradients(cost)\n",
    "    capped_gradients = [(tf.clip_by_value(grad, -1., 1.), var) for grad, var in gradients]\n",
    "    train_op = optimizer.apply_gradients(capped_gradients)"
   ]
  },
  {
   "cell_type": "markdown",
   "metadata": {
    "deletable": true,
    "editable": true
   },
   "source": [
    "## Train\n",
    "Train the neural network on the preprocessed data.  If you have a hard time getting a good loss, check the [forms](https://discussions.udacity.com/) to see if anyone is having the same problem."
   ]
  },
  {
   "cell_type": "code",
   "execution_count": 203,
   "metadata": {
    "collapsed": false,
    "deletable": true,
    "editable": true
   },
   "outputs": [
    {
     "name": "stdout",
     "output_type": "stream",
     "text": [
      "Epoch   0 Batch    0/34   train_loss = 8.823\n",
      "Epoch   0 Batch   10/34   train_loss = 5.990\n",
      "Epoch   0 Batch   20/34   train_loss = 5.587\n",
      "Epoch   0 Batch   30/34   train_loss = 5.387\n",
      "Epoch   1 Batch    6/34   train_loss = 4.930\n",
      "Epoch   1 Batch   16/34   train_loss = 5.098\n",
      "Epoch   1 Batch   26/34   train_loss = 4.710\n",
      "Epoch   2 Batch    2/34   train_loss = 4.600\n",
      "Epoch   2 Batch   12/34   train_loss = 4.437\n",
      "Epoch   2 Batch   22/34   train_loss = 4.392\n",
      "Epoch   2 Batch   32/34   train_loss = 4.220\n",
      "Epoch   3 Batch    8/34   train_loss = 4.045\n",
      "Epoch   3 Batch   18/34   train_loss = 4.072\n",
      "Epoch   3 Batch   28/34   train_loss = 4.012\n",
      "Epoch   4 Batch    4/34   train_loss = 3.842\n",
      "Epoch   4 Batch   14/34   train_loss = 3.922\n",
      "Epoch   4 Batch   24/34   train_loss = 3.650\n",
      "Epoch   5 Batch    0/34   train_loss = 3.591\n",
      "Epoch   5 Batch   10/34   train_loss = 3.590\n",
      "Epoch   5 Batch   20/34   train_loss = 3.446\n",
      "Epoch   5 Batch   30/34   train_loss = 3.490\n",
      "Epoch   6 Batch    6/34   train_loss = 3.264\n",
      "Epoch   6 Batch   16/34   train_loss = 3.328\n",
      "Epoch   6 Batch   26/34   train_loss = 3.210\n",
      "Epoch   7 Batch    2/34   train_loss = 3.142\n",
      "Epoch   7 Batch   12/34   train_loss = 2.931\n",
      "Epoch   7 Batch   22/34   train_loss = 2.995\n",
      "Epoch   7 Batch   32/34   train_loss = 2.894\n",
      "Epoch   8 Batch    8/34   train_loss = 2.893\n",
      "Epoch   8 Batch   18/34   train_loss = 2.705\n",
      "Epoch   8 Batch   28/34   train_loss = 2.721\n",
      "Epoch   9 Batch    4/34   train_loss = 2.654\n",
      "Epoch   9 Batch   14/34   train_loss = 2.481\n",
      "Epoch   9 Batch   24/34   train_loss = 2.486\n",
      "Epoch  10 Batch    0/34   train_loss = 2.423\n",
      "Epoch  10 Batch   10/34   train_loss = 2.408\n",
      "Epoch  10 Batch   20/34   train_loss = 2.288\n",
      "Epoch  10 Batch   30/34   train_loss = 2.303\n",
      "Epoch  11 Batch    6/34   train_loss = 2.191\n",
      "Epoch  11 Batch   16/34   train_loss = 2.122\n",
      "Epoch  11 Batch   26/34   train_loss = 2.127\n",
      "Epoch  12 Batch    2/34   train_loss = 2.066\n",
      "Epoch  12 Batch   12/34   train_loss = 2.000\n",
      "Epoch  12 Batch   22/34   train_loss = 1.995\n",
      "Epoch  12 Batch   32/34   train_loss = 1.952\n",
      "Epoch  13 Batch    8/34   train_loss = 2.016\n",
      "Epoch  13 Batch   18/34   train_loss = 1.788\n",
      "Epoch  13 Batch   28/34   train_loss = 1.811\n",
      "Epoch  14 Batch    4/34   train_loss = 1.838\n",
      "Epoch  14 Batch   14/34   train_loss = 1.645\n",
      "Epoch  14 Batch   24/34   train_loss = 1.720\n",
      "Epoch  15 Batch    0/34   train_loss = 1.615\n",
      "Epoch  15 Batch   10/34   train_loss = 1.626\n",
      "Epoch  15 Batch   20/34   train_loss = 1.576\n",
      "Epoch  15 Batch   30/34   train_loss = 1.552\n",
      "Epoch  16 Batch    6/34   train_loss = 1.468\n",
      "Epoch  16 Batch   16/34   train_loss = 1.359\n",
      "Epoch  16 Batch   26/34   train_loss = 1.391\n",
      "Epoch  17 Batch    2/34   train_loss = 1.394\n",
      "Epoch  17 Batch   12/34   train_loss = 1.316\n",
      "Epoch  17 Batch   22/34   train_loss = 1.331\n",
      "Epoch  17 Batch   32/34   train_loss = 1.291\n",
      "Epoch  18 Batch    8/34   train_loss = 1.367\n",
      "Epoch  18 Batch   18/34   train_loss = 1.164\n",
      "Epoch  18 Batch   28/34   train_loss = 1.200\n",
      "Epoch  19 Batch    4/34   train_loss = 1.185\n",
      "Epoch  19 Batch   14/34   train_loss = 1.098\n",
      "Epoch  19 Batch   24/34   train_loss = 1.182\n",
      "Epoch  20 Batch    0/34   train_loss = 1.107\n",
      "Epoch  20 Batch   10/34   train_loss = 1.093\n",
      "Epoch  20 Batch   20/34   train_loss = 1.116\n",
      "Epoch  20 Batch   30/34   train_loss = 1.063\n",
      "Epoch  21 Batch    6/34   train_loss = 0.954\n",
      "Epoch  21 Batch   16/34   train_loss = 0.925\n",
      "Epoch  21 Batch   26/34   train_loss = 0.940\n",
      "Epoch  22 Batch    2/34   train_loss = 0.940\n",
      "Epoch  22 Batch   12/34   train_loss = 0.893\n",
      "Epoch  22 Batch   22/34   train_loss = 0.929\n",
      "Epoch  22 Batch   32/34   train_loss = 0.941\n",
      "Epoch  23 Batch    8/34   train_loss = 0.925\n",
      "Epoch  23 Batch   18/34   train_loss = 0.863\n",
      "Epoch  23 Batch   28/34   train_loss = 0.855\n",
      "Epoch  24 Batch    4/34   train_loss = 0.894\n",
      "Epoch  24 Batch   14/34   train_loss = 0.816\n",
      "Epoch  24 Batch   24/34   train_loss = 0.906\n",
      "Epoch  25 Batch    0/34   train_loss = 0.869\n",
      "Epoch  25 Batch   10/34   train_loss = 0.796\n",
      "Epoch  25 Batch   20/34   train_loss = 0.892\n",
      "Epoch  25 Batch   30/34   train_loss = 0.777\n",
      "Epoch  26 Batch    6/34   train_loss = 0.792\n",
      "Epoch  26 Batch   16/34   train_loss = 0.675\n",
      "Epoch  26 Batch   26/34   train_loss = 0.794\n",
      "Epoch  27 Batch    2/34   train_loss = 0.686\n",
      "Epoch  27 Batch   12/34   train_loss = 0.695\n",
      "Epoch  27 Batch   22/34   train_loss = 0.702\n",
      "Epoch  27 Batch   32/34   train_loss = 0.709\n",
      "Epoch  28 Batch    8/34   train_loss = 0.699\n",
      "Epoch  28 Batch   18/34   train_loss = 0.595\n",
      "Epoch  28 Batch   28/34   train_loss = 0.597\n",
      "Epoch  29 Batch    4/34   train_loss = 0.606\n",
      "Epoch  29 Batch   14/34   train_loss = 0.555\n",
      "Epoch  29 Batch   24/34   train_loss = 0.620\n",
      "Epoch  30 Batch    0/34   train_loss = 0.565\n",
      "Epoch  30 Batch   10/34   train_loss = 0.512\n",
      "Epoch  30 Batch   20/34   train_loss = 0.571\n",
      "Epoch  30 Batch   30/34   train_loss = 0.476\n",
      "Epoch  31 Batch    6/34   train_loss = 0.474\n",
      "Epoch  31 Batch   16/34   train_loss = 0.425\n",
      "Epoch  31 Batch   26/34   train_loss = 0.452\n",
      "Epoch  32 Batch    2/34   train_loss = 0.431\n",
      "Epoch  32 Batch   12/34   train_loss = 0.411\n",
      "Epoch  32 Batch   22/34   train_loss = 0.432\n",
      "Epoch  32 Batch   32/34   train_loss = 0.421\n",
      "Epoch  33 Batch    8/34   train_loss = 0.441\n",
      "Epoch  33 Batch   18/34   train_loss = 0.352\n",
      "Epoch  33 Batch   28/34   train_loss = 0.351\n",
      "Epoch  34 Batch    4/34   train_loss = 0.354\n",
      "Epoch  34 Batch   14/34   train_loss = 0.350\n",
      "Epoch  34 Batch   24/34   train_loss = 0.371\n",
      "Epoch  35 Batch    0/34   train_loss = 0.363\n",
      "Epoch  35 Batch   10/34   train_loss = 0.334\n",
      "Epoch  35 Batch   20/34   train_loss = 0.374\n",
      "Epoch  35 Batch   30/34   train_loss = 0.336\n",
      "Epoch  36 Batch    6/34   train_loss = 0.324\n",
      "Epoch  36 Batch   16/34   train_loss = 0.312\n",
      "Epoch  36 Batch   26/34   train_loss = 0.313\n",
      "Epoch  37 Batch    2/34   train_loss = 0.328\n",
      "Epoch  37 Batch   12/34   train_loss = 0.302\n",
      "Epoch  37 Batch   22/34   train_loss = 0.318\n",
      "Epoch  37 Batch   32/34   train_loss = 0.319\n",
      "Epoch  38 Batch    8/34   train_loss = 0.327\n",
      "Epoch  38 Batch   18/34   train_loss = 0.304\n",
      "Epoch  38 Batch   28/34   train_loss = 0.276\n",
      "Epoch  39 Batch    4/34   train_loss = 0.294\n",
      "Epoch  39 Batch   14/34   train_loss = 0.282\n",
      "Epoch  39 Batch   24/34   train_loss = 0.313\n",
      "Epoch  40 Batch    0/34   train_loss = 0.295\n",
      "Epoch  40 Batch   10/34   train_loss = 0.273\n",
      "Epoch  40 Batch   20/34   train_loss = 0.310\n",
      "Epoch  40 Batch   30/34   train_loss = 0.272\n",
      "Epoch  41 Batch    6/34   train_loss = 0.265\n",
      "Epoch  41 Batch   16/34   train_loss = 0.235\n",
      "Epoch  41 Batch   26/34   train_loss = 0.258\n",
      "Epoch  42 Batch    2/34   train_loss = 0.258\n",
      "Epoch  42 Batch   12/34   train_loss = 0.226\n",
      "Epoch  42 Batch   22/34   train_loss = 0.235\n",
      "Epoch  42 Batch   32/34   train_loss = 0.247\n",
      "Epoch  43 Batch    8/34   train_loss = 0.257\n",
      "Epoch  43 Batch   18/34   train_loss = 0.218\n",
      "Epoch  43 Batch   28/34   train_loss = 0.217\n",
      "Epoch  44 Batch    4/34   train_loss = 0.205\n",
      "Epoch  44 Batch   14/34   train_loss = 0.215\n",
      "Epoch  44 Batch   24/34   train_loss = 0.231\n",
      "Epoch  45 Batch    0/34   train_loss = 0.207\n",
      "Epoch  45 Batch   10/34   train_loss = 0.191\n",
      "Epoch  45 Batch   20/34   train_loss = 0.235\n",
      "Epoch  45 Batch   30/34   train_loss = 0.215\n",
      "Epoch  46 Batch    6/34   train_loss = 0.195\n",
      "Epoch  46 Batch   16/34   train_loss = 0.185\n",
      "Epoch  46 Batch   26/34   train_loss = 0.203\n",
      "Epoch  47 Batch    2/34   train_loss = 0.197\n",
      "Epoch  47 Batch   12/34   train_loss = 0.178\n",
      "Epoch  47 Batch   22/34   train_loss = 0.193\n",
      "Epoch  47 Batch   32/34   train_loss = 0.194\n",
      "Epoch  48 Batch    8/34   train_loss = 0.205\n",
      "Epoch  48 Batch   18/34   train_loss = 0.179\n",
      "Epoch  48 Batch   28/34   train_loss = 0.180\n",
      "Epoch  49 Batch    4/34   train_loss = 0.169\n",
      "Epoch  49 Batch   14/34   train_loss = 0.192\n",
      "Epoch  49 Batch   24/34   train_loss = 0.188\n",
      "Epoch  50 Batch    0/34   train_loss = 0.169\n",
      "Epoch  50 Batch   10/34   train_loss = 0.171\n",
      "Epoch  50 Batch   20/34   train_loss = 0.200\n",
      "Epoch  50 Batch   30/34   train_loss = 0.184\n",
      "Epoch  51 Batch    6/34   train_loss = 0.174\n",
      "Epoch  51 Batch   16/34   train_loss = 0.168\n",
      "Epoch  51 Batch   26/34   train_loss = 0.175\n",
      "Epoch  52 Batch    2/34   train_loss = 0.175\n",
      "Epoch  52 Batch   12/34   train_loss = 0.164\n",
      "Epoch  52 Batch   22/34   train_loss = 0.168\n",
      "Epoch  52 Batch   32/34   train_loss = 0.175\n",
      "Epoch  53 Batch    8/34   train_loss = 0.185\n",
      "Epoch  53 Batch   18/34   train_loss = 0.165\n",
      "Epoch  53 Batch   28/34   train_loss = 0.167\n",
      "Epoch  54 Batch    4/34   train_loss = 0.158\n",
      "Epoch  54 Batch   14/34   train_loss = 0.174\n",
      "Epoch  54 Batch   24/34   train_loss = 0.179\n",
      "Epoch  55 Batch    0/34   train_loss = 0.159\n",
      "Epoch  55 Batch   10/34   train_loss = 0.162\n",
      "Epoch  55 Batch   20/34   train_loss = 0.188\n",
      "Epoch  55 Batch   30/34   train_loss = 0.183\n",
      "Epoch  56 Batch    6/34   train_loss = 0.165\n",
      "Epoch  56 Batch   16/34   train_loss = 0.163\n",
      "Epoch  56 Batch   26/34   train_loss = 0.173\n",
      "Epoch  57 Batch    2/34   train_loss = 0.167\n",
      "Epoch  57 Batch   12/34   train_loss = 0.160\n",
      "Epoch  57 Batch   22/34   train_loss = 0.165\n",
      "Epoch  57 Batch   32/34   train_loss = 0.170\n",
      "Epoch  58 Batch    8/34   train_loss = 0.181\n",
      "Epoch  58 Batch   18/34   train_loss = 0.161\n",
      "Epoch  58 Batch   28/34   train_loss = 0.163\n",
      "Epoch  59 Batch    4/34   train_loss = 0.155\n",
      "Epoch  59 Batch   14/34   train_loss = 0.174\n",
      "Epoch  59 Batch   24/34   train_loss = 0.176\n",
      "Epoch  60 Batch    0/34   train_loss = 0.155\n",
      "Epoch  60 Batch   10/34   train_loss = 0.162\n",
      "Epoch  60 Batch   20/34   train_loss = 0.185\n",
      "Epoch  60 Batch   30/34   train_loss = 0.177\n",
      "Epoch  61 Batch    6/34   train_loss = 0.164\n",
      "Epoch  61 Batch   16/34   train_loss = 0.161\n",
      "Epoch  61 Batch   26/34   train_loss = 0.168\n",
      "Epoch  62 Batch    2/34   train_loss = 0.167\n",
      "Epoch  62 Batch   12/34   train_loss = 0.159\n",
      "Epoch  62 Batch   22/34   train_loss = 0.161\n",
      "Epoch  62 Batch   32/34   train_loss = 0.169\n",
      "Epoch  63 Batch    8/34   train_loss = 0.179\n",
      "Epoch  63 Batch   18/34   train_loss = 0.160\n",
      "Epoch  63 Batch   28/34   train_loss = 0.162\n",
      "Epoch  64 Batch    4/34   train_loss = 0.153\n",
      "Epoch  64 Batch   14/34   train_loss = 0.170\n",
      "Epoch  64 Batch   24/34   train_loss = 0.174\n",
      "Epoch  65 Batch    0/34   train_loss = 0.154\n",
      "Epoch  65 Batch   10/34   train_loss = 0.158\n",
      "Epoch  65 Batch   20/34   train_loss = 0.183\n",
      "Epoch  65 Batch   30/34   train_loss = 0.178\n",
      "Epoch  66 Batch    6/34   train_loss = 0.161\n",
      "Epoch  66 Batch   16/34   train_loss = 0.160\n",
      "Epoch  66 Batch   26/34   train_loss = 0.170\n",
      "Epoch  67 Batch    2/34   train_loss = 0.163\n",
      "Epoch  67 Batch   12/34   train_loss = 0.158\n",
      "Epoch  67 Batch   22/34   train_loss = 0.162\n",
      "Epoch  67 Batch   32/34   train_loss = 0.167\n",
      "Epoch  68 Batch    8/34   train_loss = 0.178\n",
      "Epoch  68 Batch   18/34   train_loss = 0.158\n",
      "Epoch  68 Batch   28/34   train_loss = 0.160\n",
      "Epoch  69 Batch    4/34   train_loss = 0.152\n",
      "Epoch  69 Batch   14/34   train_loss = 0.170\n",
      "Epoch  69 Batch   24/34   train_loss = 0.173\n",
      "Model Trained and Saved\n"
     ]
    }
   ],
   "source": [
    "\"\"\"\n",
    "DON'T MODIFY ANYTHING IN THIS CELL\n",
    "\"\"\"\n",
    "batches = get_batches(int_text, batch_size, seq_length)\n",
    "\n",
    "with tf.Session(graph=train_graph) as sess:\n",
    "    sess.run(tf.global_variables_initializer())\n",
    "\n",
    "    for epoch_i in range(num_epochs):\n",
    "        state = sess.run(initial_state, {input_text: batches[0][0]})\n",
    "\n",
    "        for batch_i, (x, y) in enumerate(batches):\n",
    "            feed = {\n",
    "                input_text: x,\n",
    "                targets: y,\n",
    "                initial_state: state,\n",
    "                lr: learning_rate}\n",
    "            train_loss, state, _ = sess.run([cost, final_state, train_op], feed)\n",
    "\n",
    "            # Show every <show_every_n_batches> batches\n",
    "            if (epoch_i * len(batches) + batch_i) % show_every_n_batches == 0:\n",
    "                print('Epoch {:>3} Batch {:>4}/{}   train_loss = {:.3f}'.format(\n",
    "                    epoch_i,\n",
    "                    batch_i,\n",
    "                    len(batches),\n",
    "                    train_loss))\n",
    "\n",
    "    # Save Model\n",
    "    saver = tf.train.Saver()\n",
    "    saver.save(sess, save_dir)\n",
    "    print('Model Trained and Saved')"
   ]
  },
  {
   "cell_type": "markdown",
   "metadata": {
    "deletable": true,
    "editable": true
   },
   "source": [
    "## Save Parameters\n",
    "Save `seq_length` and `save_dir` for generating a new TV script."
   ]
  },
  {
   "cell_type": "code",
   "execution_count": 204,
   "metadata": {
    "collapsed": false,
    "deletable": true,
    "editable": true
   },
   "outputs": [],
   "source": [
    "\"\"\"\n",
    "DON'T MODIFY ANYTHING IN THIS CELL\n",
    "\"\"\"\n",
    "# Save parameters for checkpoint\n",
    "helper.save_params((seq_length, save_dir))"
   ]
  },
  {
   "cell_type": "markdown",
   "metadata": {
    "deletable": true,
    "editable": true
   },
   "source": [
    "# Checkpoint"
   ]
  },
  {
   "cell_type": "code",
   "execution_count": 205,
   "metadata": {
    "collapsed": false,
    "deletable": true,
    "editable": true
   },
   "outputs": [],
   "source": [
    "\"\"\"\n",
    "DON'T MODIFY ANYTHING IN THIS CELL\n",
    "\"\"\"\n",
    "import tensorflow as tf\n",
    "import numpy as np\n",
    "import helper\n",
    "import problem_unittests as tests\n",
    "\n",
    "_, vocab_to_int, int_to_vocab, token_dict = helper.load_preprocess()\n",
    "seq_length, load_dir = helper.load_params()"
   ]
  },
  {
   "cell_type": "markdown",
   "metadata": {
    "deletable": true,
    "editable": true
   },
   "source": [
    "## Implement Generate Functions\n",
    "### Get Tensors\n",
    "Get tensors from `loaded_graph` using the function [`get_tensor_by_name()`](https://www.tensorflow.org/api_docs/python/tf/Graph#get_tensor_by_name).  Get the tensors using the following names:\n",
    "- \"input:0\"\n",
    "- \"initial_state:0\"\n",
    "- \"final_state:0\"\n",
    "- \"probs:0\"\n",
    "\n",
    "Return the tensors in the following tuple `(InputTensor, InitialStateTensor, FinalStateTensor, ProbsTensor)` "
   ]
  },
  {
   "cell_type": "code",
   "execution_count": 206,
   "metadata": {
    "collapsed": false,
    "deletable": true,
    "editable": true
   },
   "outputs": [
    {
     "name": "stdout",
     "output_type": "stream",
     "text": [
      "Tests Passed\n"
     ]
    }
   ],
   "source": [
    "def get_tensors(loaded_graph):\n",
    "    \"\"\"\n",
    "    Get input, initial state, final state, and probabilities tensor from <loaded_graph>\n",
    "    :param loaded_graph: TensorFlow graph loaded from file\n",
    "    :return: Tuple (InputTensor, InitialStateTensor, FinalStateTensor, ProbsTensor)\n",
    "    \"\"\"\n",
    "   \n",
    "    InputTensor = loaded_graph.get_tensor_by_name(\"input:0\")\n",
    "    InitialStateTensor = loaded_graph.get_tensor_by_name(\"initial_state:0\")\n",
    "    FinalStateTensor = loaded_graph.get_tensor_by_name(\"final_state:0\")\n",
    "    ProbsTensor = loaded_graph.get_tensor_by_name(\"probs:0\")\n",
    "    return InputTensor, InitialStateTensor, FinalStateTensor, ProbsTensor\n",
    "\n",
    "\n",
    "\"\"\"\n",
    "DON'T MODIFY ANYTHING IN THIS CELL THAT IS BELOW THIS LINE\n",
    "\"\"\"\n",
    "tests.test_get_tensors(get_tensors)"
   ]
  },
  {
   "cell_type": "markdown",
   "metadata": {
    "deletable": true,
    "editable": true
   },
   "source": [
    "### Choose Word\n",
    "Implement the `pick_word()` function to select the next word using `probabilities`."
   ]
  },
  {
   "cell_type": "code",
   "execution_count": 207,
   "metadata": {
    "collapsed": false,
    "deletable": true,
    "editable": true
   },
   "outputs": [
    {
     "name": "stdout",
     "output_type": "stream",
     "text": [
      "Tests Passed\n"
     ]
    }
   ],
   "source": [
    "def pick_word(probabilities, int_to_vocab):\n",
    "    \"\"\"\n",
    "    Pick the next word in the generated text\n",
    "    :param probabilities: Probabilites of the next word\n",
    "    :param int_to_vocab: Dictionary of word ids as the keys and words as the values\n",
    "    :return: String of the predicted word\n",
    "    \"\"\"\n",
    "    \n",
    "    vocab_len = len(int_to_vocab)\n",
    "    random_pick = np.random.choice(np.arange(vocab_len), p=probabilities)\n",
    "    predicted_word = int_to_vocab[random_pick]\n",
    "    return predicted_word\n",
    "\n",
    "\n",
    "\"\"\"\n",
    "DON'T MODIFY ANYTHING IN THIS CELL THAT IS BELOW THIS LINE\n",
    "\"\"\"\n",
    "tests.test_pick_word(pick_word)"
   ]
  },
  {
   "cell_type": "markdown",
   "metadata": {
    "deletable": true,
    "editable": true
   },
   "source": [
    "## Generate TV Script\n",
    "This will generate the TV script for you.  Set `gen_length` to the length of TV script you want to generate."
   ]
  },
  {
   "cell_type": "code",
   "execution_count": 208,
   "metadata": {
    "collapsed": false,
    "deletable": true,
    "editable": true
   },
   "outputs": [
    {
     "name": "stdout",
     "output_type": "stream",
     "text": [
      "moe_szyslak:(to harv) i'm sorry, but the secret ingredient dies with me.\n",
      "delivery_man:(to moe) oh, i don't want to see this afternoon. but is it all...(looking in mirror) no girl wants to end up with a joe puke-pail like me.\n",
      "moe_szyslak:(stunned) oh my god.(moans) i got a lot of catching up to do.\n",
      "moe_szyslak:(shocked) what are you? you're good for me?\n",
      "hans: ech, i'm glad you said that. show, you get it around with no joe pinchpenny back tonight, you can be any nods ma, looks. i need a little advice.\n",
      "homer_simpson:(to moe, slightly concerned) do you have a couple of\" flaming homers\"?\n",
      "\n",
      "\n",
      "homer_simpson: yes!\n",
      "duffman:(to homer) so how you folks doin'? i'm moe. or as the ladies like you're ever going to drink you advice.\n",
      "carl_carlson: i always got a very thoughtless birthday!\n",
      "lenny_leonard: could be something.\n",
      "moe_szyslak: is everything okay, homer?\n",
      "homer_simpson:(leans back) moe!\n",
      "carl_carlson:(calling out) are you man alive.\n",
      "lisa_simpson:(annoyed) you said you'd be home by seven to help with my mother's birthday!\n",
      "moe_szyslak:(laughs,\" absolutely devastated.\" the words of a heart-broken mother.\n",
      "homer_simpson:(nervous chuckle) it's not an old boyfriend.\n",
      "homer_simpson: c'mon, moe. where's that voice comin' from!\n",
      "homer_simpson: barney, what's this?\n",
      "moe_szyslak: aw, i don't know. he's tough to catch. he keeps is to us cool with them bush girls were every after a winch.\n",
      "homer_simpson:(low) hey, moe, if you want to blame ourselves, but i am sure if you put your foot down on their throats and grind...\n",
      "lisa_simpson: yeah, you've been in that five and thirty million dollars!\n",
      "sadistic_barfly: c'mon boozehound!\n",
      "homer_simpson: i'm out of now, i understand.\n",
      "lenny_leonard: i think that's really that.\n",
      "homer_simpson:(intrigued) uh-huh\n"
     ]
    }
   ],
   "source": [
    "gen_length = 400\n",
    "# homer_simpson, moe_szyslak, or Barney_Gumble\n",
    "prime_word = 'moe_szyslak'\n",
    "\n",
    "\"\"\"\n",
    "DON'T MODIFY ANYTHING IN THIS CELL THAT IS BELOW THIS LINE\n",
    "\"\"\"\n",
    "loaded_graph = tf.Graph()\n",
    "with tf.Session(graph=loaded_graph) as sess:\n",
    "    # Load saved model\n",
    "    loader = tf.train.import_meta_graph(load_dir + '.meta')\n",
    "    loader.restore(sess, load_dir)\n",
    "\n",
    "    # Get Tensors from loaded model\n",
    "    input_text, initial_state, final_state, probs = get_tensors(loaded_graph)\n",
    "\n",
    "    # Sentences generation setup\n",
    "    gen_sentences = [prime_word + ':']\n",
    "    prev_state = sess.run(initial_state, {input_text: np.array([[1]])})\n",
    "\n",
    "    # Generate sentences\n",
    "    for n in range(gen_length):\n",
    "        # Dynamic Input\n",
    "        dyn_input = [[vocab_to_int[word] for word in gen_sentences[-seq_length:]]]\n",
    "        dyn_seq_length = len(dyn_input[0])\n",
    "\n",
    "        # Get Prediction\n",
    "        probabilities, prev_state = sess.run(\n",
    "            [probs, final_state],\n",
    "            {input_text: dyn_input, initial_state: prev_state})\n",
    "        \n",
    "        pred_word = pick_word(probabilities[dyn_seq_length-1], int_to_vocab)\n",
    "\n",
    "        gen_sentences.append(pred_word)\n",
    "    \n",
    "    # Remove tokens\n",
    "    tv_script = ' '.join(gen_sentences)\n",
    "    for key, token in token_dict.items():\n",
    "        ending = ' ' if key in ['\\n', '(', '\"'] else ''\n",
    "        tv_script = tv_script.replace(' ' + token.lower(), key)\n",
    "    tv_script = tv_script.replace('\\n ', '\\n')\n",
    "    tv_script = tv_script.replace('( ', '(')\n",
    "        \n",
    "    print(tv_script)"
   ]
  },
  {
   "cell_type": "markdown",
   "metadata": {
    "deletable": true,
    "editable": true
   },
   "source": [
    "# The TV Script is Nonsensical\n",
    "It's ok if the TV script doesn't make any sense.  We trained on less than a megabyte of text.  In order to get good results, you'll have to use a smaller vocabulary or get more data.  Luckly there's more data!  As we mentioned in the begging of this project, this is a subset of [another dataset](https://www.kaggle.com/wcukierski/the-simpsons-by-the-data).  We didn't have you train on all the data, because that would take too long.  However, you are free to train your neural network on all the data.  After you complete the project, of course.\n",
    "# Submitting This Project\n",
    "When submitting this project, make sure to run all the cells before saving the notebook. Save the notebook file as \"dlnd_tv_script_generation.ipynb\" and save it as a HTML file under \"File\" -> \"Download as\". Include the \"helper.py\" and \"problem_unittests.py\" files in your submission."
   ]
  },
  {
   "cell_type": "code",
   "execution_count": null,
   "metadata": {
    "collapsed": true
   },
   "outputs": [],
   "source": []
  }
 ],
 "metadata": {
  "kernelspec": {
   "display_name": "Python 3",
   "language": "python",
   "name": "python3"
  },
  "language_info": {
   "codemirror_mode": {
    "name": "ipython",
    "version": 3
   },
   "file_extension": ".py",
   "mimetype": "text/x-python",
   "name": "python",
   "nbconvert_exporter": "python",
   "pygments_lexer": "ipython3",
   "version": "3.5.2"
  }
 },
 "nbformat": 4,
 "nbformat_minor": 0
}
